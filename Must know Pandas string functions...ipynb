{
 "cells": [
  {
   "cell_type": "code",
   "execution_count": 1,
   "id": "3d7360e4",
   "metadata": {},
   "outputs": [
    {
     "data": {
      "text/html": [
       "<div>\n",
       "<style scoped>\n",
       "    .dataframe tbody tr th:only-of-type {\n",
       "        vertical-align: middle;\n",
       "    }\n",
       "\n",
       "    .dataframe tbody tr th {\n",
       "        vertical-align: top;\n",
       "    }\n",
       "\n",
       "    .dataframe thead th {\n",
       "        text-align: right;\n",
       "    }\n",
       "</style>\n",
       "<table border=\"1\" class=\"dataframe\">\n",
       "  <thead>\n",
       "    <tr style=\"text-align: right;\">\n",
       "      <th></th>\n",
       "      <th>Name</th>\n",
       "      <th>City</th>\n",
       "      <th>State</th>\n",
       "    </tr>\n",
       "  </thead>\n",
       "  <tbody>\n",
       "    <tr>\n",
       "      <th>0</th>\n",
       "      <td>Ovi Naikwade</td>\n",
       "      <td>Shedshal</td>\n",
       "      <td>MH</td>\n",
       "    </tr>\n",
       "    <tr>\n",
       "      <th>1</th>\n",
       "      <td>Sudarshan Naikwade</td>\n",
       "      <td>Kolhapur</td>\n",
       "      <td>MH</td>\n",
       "    </tr>\n",
       "    <tr>\n",
       "      <th>2</th>\n",
       "      <td>Pradnya Naikwade</td>\n",
       "      <td>Talandage</td>\n",
       "      <td>TL</td>\n",
       "    </tr>\n",
       "    <tr>\n",
       "      <th>3</th>\n",
       "      <td>Sunita Naikwade</td>\n",
       "      <td>Mangsuli</td>\n",
       "      <td>KA</td>\n",
       "    </tr>\n",
       "  </tbody>\n",
       "</table>\n",
       "</div>"
      ],
      "text/plain": [
       "                  Name        City State\n",
       "0         Ovi Naikwade    Shedshal    MH\n",
       "1   Sudarshan Naikwade   Kolhapur     MH\n",
       "2     Pradnya Naikwade  Talandage     TL\n",
       "3      Sunita Naikwade   Mangsuli     KA"
      ]
     },
     "execution_count": 1,
     "metadata": {},
     "output_type": "execute_result"
    }
   ],
   "source": [
    "import pandas as pd\n",
    "\n",
    "dict1 = {'Name': ['Ovi Naikwade', ' Sudarshan Naikwade', 'Pradnya Naikwade', 'Sunita Naikwade'],\n",
    "        'City':[' Shedshal', 'Kolhapur ', 'Talandage ', ' Mangsuli '],\n",
    "        'State':['MH', 'MH', 'TL', 'KA']}\n",
    "df = pd.DataFrame(dict1)\n",
    "df"
   ]
  },
  {
   "cell_type": "code",
   "execution_count": 2,
   "id": "2a0bab54",
   "metadata": {},
   "outputs": [
    {
     "data": {
      "text/html": [
       "<div>\n",
       "<style scoped>\n",
       "    .dataframe tbody tr th:only-of-type {\n",
       "        vertical-align: middle;\n",
       "    }\n",
       "\n",
       "    .dataframe tbody tr th {\n",
       "        vertical-align: top;\n",
       "    }\n",
       "\n",
       "    .dataframe thead th {\n",
       "        text-align: right;\n",
       "    }\n",
       "</style>\n",
       "<table border=\"1\" class=\"dataframe\">\n",
       "  <thead>\n",
       "    <tr style=\"text-align: right;\">\n",
       "      <th></th>\n",
       "      <th>Name</th>\n",
       "      <th>City</th>\n",
       "      <th>State</th>\n",
       "    </tr>\n",
       "  </thead>\n",
       "  <tbody>\n",
       "    <tr>\n",
       "      <th>0</th>\n",
       "      <td>Ovi Naikwade</td>\n",
       "      <td>Shedshal</td>\n",
       "      <td>MH</td>\n",
       "    </tr>\n",
       "    <tr>\n",
       "      <th>1</th>\n",
       "      <td>Sudarshan Naikwade</td>\n",
       "      <td>Kolhapur</td>\n",
       "      <td>MH</td>\n",
       "    </tr>\n",
       "    <tr>\n",
       "      <th>2</th>\n",
       "      <td>Pradnya Naikwade</td>\n",
       "      <td>Talandage</td>\n",
       "      <td>TL</td>\n",
       "    </tr>\n",
       "    <tr>\n",
       "      <th>3</th>\n",
       "      <td>Sunita Naikwade</td>\n",
       "      <td>Mangsuli</td>\n",
       "      <td>KA</td>\n",
       "    </tr>\n",
       "  </tbody>\n",
       "</table>\n",
       "</div>"
      ],
      "text/plain": [
       "                  Name        City State\n",
       "0         Ovi Naikwade    Shedshal    MH\n",
       "1   Sudarshan Naikwade   Kolhapur     MH\n",
       "2     Pradnya Naikwade  Talandage     TL\n",
       "3      Sunita Naikwade   Mangsuli     KA"
      ]
     },
     "execution_count": 2,
     "metadata": {},
     "output_type": "execute_result"
    }
   ],
   "source": [
    "df1 = df.copy()\n",
    "df1"
   ]
  },
  {
   "cell_type": "markdown",
   "id": "818df993",
   "metadata": {},
   "source": [
    "### 1. str.lower()  and str.upper()"
   ]
  },
  {
   "cell_type": "code",
   "execution_count": 3,
   "id": "2dce4529",
   "metadata": {},
   "outputs": [
    {
     "data": {
      "text/plain": [
       "0           ovi naikwade\n",
       "1     sudarshan naikwade\n",
       "2       pradnya naikwade\n",
       "3        sunita naikwade\n",
       "Name: Name, dtype: object"
      ]
     },
     "execution_count": 3,
     "metadata": {},
     "output_type": "execute_result"
    }
   ],
   "source": [
    "df['Name'].str.lower()"
   ]
  },
  {
   "cell_type": "code",
   "execution_count": 4,
   "id": "bf0904a9",
   "metadata": {},
   "outputs": [
    {
     "data": {
      "text/html": [
       "<div>\n",
       "<style scoped>\n",
       "    .dataframe tbody tr th:only-of-type {\n",
       "        vertical-align: middle;\n",
       "    }\n",
       "\n",
       "    .dataframe tbody tr th {\n",
       "        vertical-align: top;\n",
       "    }\n",
       "\n",
       "    .dataframe thead th {\n",
       "        text-align: right;\n",
       "    }\n",
       "</style>\n",
       "<table border=\"1\" class=\"dataframe\">\n",
       "  <thead>\n",
       "    <tr style=\"text-align: right;\">\n",
       "      <th></th>\n",
       "      <th>Name</th>\n",
       "      <th>City</th>\n",
       "      <th>State</th>\n",
       "      <th>Name_Lower</th>\n",
       "    </tr>\n",
       "  </thead>\n",
       "  <tbody>\n",
       "    <tr>\n",
       "      <th>0</th>\n",
       "      <td>Ovi Naikwade</td>\n",
       "      <td>Shedshal</td>\n",
       "      <td>MH</td>\n",
       "      <td>ovi naikwade</td>\n",
       "    </tr>\n",
       "    <tr>\n",
       "      <th>1</th>\n",
       "      <td>Sudarshan Naikwade</td>\n",
       "      <td>Kolhapur</td>\n",
       "      <td>MH</td>\n",
       "      <td>sudarshan naikwade</td>\n",
       "    </tr>\n",
       "    <tr>\n",
       "      <th>2</th>\n",
       "      <td>Pradnya Naikwade</td>\n",
       "      <td>Talandage</td>\n",
       "      <td>TL</td>\n",
       "      <td>pradnya naikwade</td>\n",
       "    </tr>\n",
       "    <tr>\n",
       "      <th>3</th>\n",
       "      <td>Sunita Naikwade</td>\n",
       "      <td>Mangsuli</td>\n",
       "      <td>KA</td>\n",
       "      <td>sunita naikwade</td>\n",
       "    </tr>\n",
       "  </tbody>\n",
       "</table>\n",
       "</div>"
      ],
      "text/plain": [
       "                  Name        City State           Name_Lower\n",
       "0         Ovi Naikwade    Shedshal    MH         ovi naikwade\n",
       "1   Sudarshan Naikwade   Kolhapur     MH   sudarshan naikwade\n",
       "2     Pradnya Naikwade  Talandage     TL     pradnya naikwade\n",
       "3      Sunita Naikwade   Mangsuli     KA      sunita naikwade"
      ]
     },
     "execution_count": 4,
     "metadata": {},
     "output_type": "execute_result"
    }
   ],
   "source": [
    "df['Name_Lower'] = df['Name'].str.lower()\n",
    "df"
   ]
  },
  {
   "cell_type": "code",
   "execution_count": 5,
   "id": "fe1d1932",
   "metadata": {},
   "outputs": [
    {
     "data": {
      "text/html": [
       "<div>\n",
       "<style scoped>\n",
       "    .dataframe tbody tr th:only-of-type {\n",
       "        vertical-align: middle;\n",
       "    }\n",
       "\n",
       "    .dataframe tbody tr th {\n",
       "        vertical-align: top;\n",
       "    }\n",
       "\n",
       "    .dataframe thead th {\n",
       "        text-align: right;\n",
       "    }\n",
       "</style>\n",
       "<table border=\"1\" class=\"dataframe\">\n",
       "  <thead>\n",
       "    <tr style=\"text-align: right;\">\n",
       "      <th></th>\n",
       "      <th>Name</th>\n",
       "      <th>City</th>\n",
       "      <th>State</th>\n",
       "      <th>Name_Lower</th>\n",
       "      <th>Name_Upper</th>\n",
       "    </tr>\n",
       "  </thead>\n",
       "  <tbody>\n",
       "    <tr>\n",
       "      <th>0</th>\n",
       "      <td>Ovi Naikwade</td>\n",
       "      <td>Shedshal</td>\n",
       "      <td>MH</td>\n",
       "      <td>ovi naikwade</td>\n",
       "      <td>OVI NAIKWADE</td>\n",
       "    </tr>\n",
       "    <tr>\n",
       "      <th>1</th>\n",
       "      <td>Sudarshan Naikwade</td>\n",
       "      <td>Kolhapur</td>\n",
       "      <td>MH</td>\n",
       "      <td>sudarshan naikwade</td>\n",
       "      <td>SUDARSHAN NAIKWADE</td>\n",
       "    </tr>\n",
       "    <tr>\n",
       "      <th>2</th>\n",
       "      <td>Pradnya Naikwade</td>\n",
       "      <td>Talandage</td>\n",
       "      <td>TL</td>\n",
       "      <td>pradnya naikwade</td>\n",
       "      <td>PRADNYA NAIKWADE</td>\n",
       "    </tr>\n",
       "    <tr>\n",
       "      <th>3</th>\n",
       "      <td>Sunita Naikwade</td>\n",
       "      <td>Mangsuli</td>\n",
       "      <td>KA</td>\n",
       "      <td>sunita naikwade</td>\n",
       "      <td>SUNITA NAIKWADE</td>\n",
       "    </tr>\n",
       "  </tbody>\n",
       "</table>\n",
       "</div>"
      ],
      "text/plain": [
       "                  Name        City State           Name_Lower  \\\n",
       "0         Ovi Naikwade    Shedshal    MH         ovi naikwade   \n",
       "1   Sudarshan Naikwade   Kolhapur     MH   sudarshan naikwade   \n",
       "2     Pradnya Naikwade  Talandage     TL     pradnya naikwade   \n",
       "3      Sunita Naikwade   Mangsuli     KA      sunita naikwade   \n",
       "\n",
       "            Name_Upper  \n",
       "0         OVI NAIKWADE  \n",
       "1   SUDARSHAN NAIKWADE  \n",
       "2     PRADNYA NAIKWADE  \n",
       "3      SUNITA NAIKWADE  "
      ]
     },
     "execution_count": 5,
     "metadata": {},
     "output_type": "execute_result"
    }
   ],
   "source": [
    "df['Name_Upper'] = df['Name'].str.upper()\n",
    "df"
   ]
  },
  {
   "cell_type": "markdown",
   "id": "76041634",
   "metadata": {},
   "source": [
    "### str.len()"
   ]
  },
  {
   "cell_type": "code",
   "execution_count": 6,
   "id": "4cb16356",
   "metadata": {},
   "outputs": [
    {
     "data": {
      "text/plain": [
       "0    12\n",
       "1    19\n",
       "2    16\n",
       "3    15\n",
       "Name: Name, dtype: int64"
      ]
     },
     "execution_count": 6,
     "metadata": {},
     "output_type": "execute_result"
    }
   ],
   "source": [
    "df['Name'].str.len()"
   ]
  },
  {
   "cell_type": "code",
   "execution_count": 7,
   "id": "cb7da7d6",
   "metadata": {},
   "outputs": [
    {
     "data": {
      "text/html": [
       "<div>\n",
       "<style scoped>\n",
       "    .dataframe tbody tr th:only-of-type {\n",
       "        vertical-align: middle;\n",
       "    }\n",
       "\n",
       "    .dataframe tbody tr th {\n",
       "        vertical-align: top;\n",
       "    }\n",
       "\n",
       "    .dataframe thead th {\n",
       "        text-align: right;\n",
       "    }\n",
       "</style>\n",
       "<table border=\"1\" class=\"dataframe\">\n",
       "  <thead>\n",
       "    <tr style=\"text-align: right;\">\n",
       "      <th></th>\n",
       "      <th>Name</th>\n",
       "      <th>City</th>\n",
       "      <th>State</th>\n",
       "      <th>Name_Lower</th>\n",
       "      <th>Name_Upper</th>\n",
       "      <th>Name_len</th>\n",
       "    </tr>\n",
       "  </thead>\n",
       "  <tbody>\n",
       "    <tr>\n",
       "      <th>0</th>\n",
       "      <td>Ovi Naikwade</td>\n",
       "      <td>Shedshal</td>\n",
       "      <td>MH</td>\n",
       "      <td>ovi naikwade</td>\n",
       "      <td>OVI NAIKWADE</td>\n",
       "      <td>12</td>\n",
       "    </tr>\n",
       "    <tr>\n",
       "      <th>1</th>\n",
       "      <td>Sudarshan Naikwade</td>\n",
       "      <td>Kolhapur</td>\n",
       "      <td>MH</td>\n",
       "      <td>sudarshan naikwade</td>\n",
       "      <td>SUDARSHAN NAIKWADE</td>\n",
       "      <td>19</td>\n",
       "    </tr>\n",
       "    <tr>\n",
       "      <th>2</th>\n",
       "      <td>Pradnya Naikwade</td>\n",
       "      <td>Talandage</td>\n",
       "      <td>TL</td>\n",
       "      <td>pradnya naikwade</td>\n",
       "      <td>PRADNYA NAIKWADE</td>\n",
       "      <td>16</td>\n",
       "    </tr>\n",
       "    <tr>\n",
       "      <th>3</th>\n",
       "      <td>Sunita Naikwade</td>\n",
       "      <td>Mangsuli</td>\n",
       "      <td>KA</td>\n",
       "      <td>sunita naikwade</td>\n",
       "      <td>SUNITA NAIKWADE</td>\n",
       "      <td>15</td>\n",
       "    </tr>\n",
       "  </tbody>\n",
       "</table>\n",
       "</div>"
      ],
      "text/plain": [
       "                  Name        City State           Name_Lower  \\\n",
       "0         Ovi Naikwade    Shedshal    MH         ovi naikwade   \n",
       "1   Sudarshan Naikwade   Kolhapur     MH   sudarshan naikwade   \n",
       "2     Pradnya Naikwade  Talandage     TL     pradnya naikwade   \n",
       "3      Sunita Naikwade   Mangsuli     KA      sunita naikwade   \n",
       "\n",
       "            Name_Upper  Name_len  \n",
       "0         OVI NAIKWADE        12  \n",
       "1   SUDARSHAN NAIKWADE        19  \n",
       "2     PRADNYA NAIKWADE        16  \n",
       "3      SUNITA NAIKWADE        15  "
      ]
     },
     "execution_count": 7,
     "metadata": {},
     "output_type": "execute_result"
    }
   ],
   "source": [
    "df['Name_len']= df['Name'].str.len()\n",
    "df"
   ]
  },
  {
   "cell_type": "markdown",
   "id": "6c105fce",
   "metadata": {},
   "source": [
    "### 3. str.strip()"
   ]
  },
  {
   "cell_type": "code",
   "execution_count": 8,
   "id": "f6077d02",
   "metadata": {},
   "outputs": [
    {
     "data": {
      "text/plain": [
       "' Mangsuli '"
      ]
     },
     "execution_count": 8,
     "metadata": {},
     "output_type": "execute_result"
    }
   ],
   "source": [
    "df['City'][3]"
   ]
  },
  {
   "cell_type": "code",
   "execution_count": 9,
   "id": "8d334261",
   "metadata": {},
   "outputs": [
    {
     "data": {
      "text/html": [
       "<div>\n",
       "<style scoped>\n",
       "    .dataframe tbody tr th:only-of-type {\n",
       "        vertical-align: middle;\n",
       "    }\n",
       "\n",
       "    .dataframe tbody tr th {\n",
       "        vertical-align: top;\n",
       "    }\n",
       "\n",
       "    .dataframe thead th {\n",
       "        text-align: right;\n",
       "    }\n",
       "</style>\n",
       "<table border=\"1\" class=\"dataframe\">\n",
       "  <thead>\n",
       "    <tr style=\"text-align: right;\">\n",
       "      <th></th>\n",
       "      <th>Name</th>\n",
       "      <th>City</th>\n",
       "      <th>State</th>\n",
       "      <th>Name_Lower</th>\n",
       "      <th>Name_Upper</th>\n",
       "      <th>Name_len</th>\n",
       "      <th>City_strip</th>\n",
       "    </tr>\n",
       "  </thead>\n",
       "  <tbody>\n",
       "    <tr>\n",
       "      <th>0</th>\n",
       "      <td>Ovi Naikwade</td>\n",
       "      <td>Shedshal</td>\n",
       "      <td>MH</td>\n",
       "      <td>ovi naikwade</td>\n",
       "      <td>OVI NAIKWADE</td>\n",
       "      <td>12</td>\n",
       "      <td>Shedshal</td>\n",
       "    </tr>\n",
       "    <tr>\n",
       "      <th>1</th>\n",
       "      <td>Sudarshan Naikwade</td>\n",
       "      <td>Kolhapur</td>\n",
       "      <td>MH</td>\n",
       "      <td>sudarshan naikwade</td>\n",
       "      <td>SUDARSHAN NAIKWADE</td>\n",
       "      <td>19</td>\n",
       "      <td>Kolhapur</td>\n",
       "    </tr>\n",
       "    <tr>\n",
       "      <th>2</th>\n",
       "      <td>Pradnya Naikwade</td>\n",
       "      <td>Talandage</td>\n",
       "      <td>TL</td>\n",
       "      <td>pradnya naikwade</td>\n",
       "      <td>PRADNYA NAIKWADE</td>\n",
       "      <td>16</td>\n",
       "      <td>Talandage</td>\n",
       "    </tr>\n",
       "    <tr>\n",
       "      <th>3</th>\n",
       "      <td>Sunita Naikwade</td>\n",
       "      <td>Mangsuli</td>\n",
       "      <td>KA</td>\n",
       "      <td>sunita naikwade</td>\n",
       "      <td>SUNITA NAIKWADE</td>\n",
       "      <td>15</td>\n",
       "      <td>Mangsuli</td>\n",
       "    </tr>\n",
       "  </tbody>\n",
       "</table>\n",
       "</div>"
      ],
      "text/plain": [
       "                  Name        City State           Name_Lower  \\\n",
       "0         Ovi Naikwade    Shedshal    MH         ovi naikwade   \n",
       "1   Sudarshan Naikwade   Kolhapur     MH   sudarshan naikwade   \n",
       "2     Pradnya Naikwade  Talandage     TL     pradnya naikwade   \n",
       "3      Sunita Naikwade   Mangsuli     KA      sunita naikwade   \n",
       "\n",
       "            Name_Upper  Name_len City_strip  \n",
       "0         OVI NAIKWADE        12   Shedshal  \n",
       "1   SUDARSHAN NAIKWADE        19   Kolhapur  \n",
       "2     PRADNYA NAIKWADE        16  Talandage  \n",
       "3      SUNITA NAIKWADE        15   Mangsuli  "
      ]
     },
     "execution_count": 9,
     "metadata": {},
     "output_type": "execute_result"
    }
   ],
   "source": [
    "df['City_strip']= df['City'].str.strip()\n",
    "df"
   ]
  },
  {
   "cell_type": "code",
   "execution_count": 10,
   "id": "0c178b0d",
   "metadata": {},
   "outputs": [
    {
     "data": {
      "text/plain": [
       "'Mangsuli'"
      ]
     },
     "execution_count": 10,
     "metadata": {},
     "output_type": "execute_result"
    }
   ],
   "source": [
    "df['City_strip'][3]"
   ]
  },
  {
   "cell_type": "code",
   "execution_count": 11,
   "id": "30c901fa",
   "metadata": {},
   "outputs": [
    {
     "data": {
      "text/plain": [
       "0      Shedshal\n",
       "1     Kolhapur \n",
       "2    Talandage \n",
       "3     Mangsuli \n",
       "Name: City, dtype: object"
      ]
     },
     "execution_count": 11,
     "metadata": {},
     "output_type": "execute_result"
    }
   ],
   "source": [
    "df[\"City\"].str.lstrip()"
   ]
  },
  {
   "cell_type": "code",
   "execution_count": 12,
   "id": "16ba841c",
   "metadata": {},
   "outputs": [
    {
     "data": {
      "text/plain": [
       "0     Shedshal\n",
       "1     Kolhapur\n",
       "2    Talandage\n",
       "3     Mangsuli\n",
       "Name: City, dtype: object"
      ]
     },
     "execution_count": 12,
     "metadata": {},
     "output_type": "execute_result"
    }
   ],
   "source": [
    "df['City'].str.rstrip()"
   ]
  },
  {
   "cell_type": "markdown",
   "id": "4b7e26a4",
   "metadata": {},
   "source": [
    "#### 4. str.split()"
   ]
  },
  {
   "cell_type": "code",
   "execution_count": 13,
   "id": "91f378d7",
   "metadata": {},
   "outputs": [
    {
     "data": {
      "text/html": [
       "<div>\n",
       "<style scoped>\n",
       "    .dataframe tbody tr th:only-of-type {\n",
       "        vertical-align: middle;\n",
       "    }\n",
       "\n",
       "    .dataframe tbody tr th {\n",
       "        vertical-align: top;\n",
       "    }\n",
       "\n",
       "    .dataframe thead th {\n",
       "        text-align: right;\n",
       "    }\n",
       "</style>\n",
       "<table border=\"1\" class=\"dataframe\">\n",
       "  <thead>\n",
       "    <tr style=\"text-align: right;\">\n",
       "      <th></th>\n",
       "      <th>Name</th>\n",
       "      <th>City</th>\n",
       "      <th>State</th>\n",
       "      <th>Name_Lower</th>\n",
       "      <th>Name_Upper</th>\n",
       "      <th>Name_len</th>\n",
       "      <th>City_strip</th>\n",
       "    </tr>\n",
       "  </thead>\n",
       "  <tbody>\n",
       "    <tr>\n",
       "      <th>0</th>\n",
       "      <td>Ovi Naikwade</td>\n",
       "      <td>Shedshal</td>\n",
       "      <td>MH</td>\n",
       "      <td>ovi naikwade</td>\n",
       "      <td>OVI NAIKWADE</td>\n",
       "      <td>12</td>\n",
       "      <td>Shedshal</td>\n",
       "    </tr>\n",
       "    <tr>\n",
       "      <th>1</th>\n",
       "      <td>Sudarshan Naikwade</td>\n",
       "      <td>Kolhapur</td>\n",
       "      <td>MH</td>\n",
       "      <td>sudarshan naikwade</td>\n",
       "      <td>SUDARSHAN NAIKWADE</td>\n",
       "      <td>19</td>\n",
       "      <td>Kolhapur</td>\n",
       "    </tr>\n",
       "    <tr>\n",
       "      <th>2</th>\n",
       "      <td>Pradnya Naikwade</td>\n",
       "      <td>Talandage</td>\n",
       "      <td>TL</td>\n",
       "      <td>pradnya naikwade</td>\n",
       "      <td>PRADNYA NAIKWADE</td>\n",
       "      <td>16</td>\n",
       "      <td>Talandage</td>\n",
       "    </tr>\n",
       "    <tr>\n",
       "      <th>3</th>\n",
       "      <td>Sunita Naikwade</td>\n",
       "      <td>Mangsuli</td>\n",
       "      <td>KA</td>\n",
       "      <td>sunita naikwade</td>\n",
       "      <td>SUNITA NAIKWADE</td>\n",
       "      <td>15</td>\n",
       "      <td>Mangsuli</td>\n",
       "    </tr>\n",
       "  </tbody>\n",
       "</table>\n",
       "</div>"
      ],
      "text/plain": [
       "                  Name        City State           Name_Lower  \\\n",
       "0         Ovi Naikwade    Shedshal    MH         ovi naikwade   \n",
       "1   Sudarshan Naikwade   Kolhapur     MH   sudarshan naikwade   \n",
       "2     Pradnya Naikwade  Talandage     TL     pradnya naikwade   \n",
       "3      Sunita Naikwade   Mangsuli     KA      sunita naikwade   \n",
       "\n",
       "            Name_Upper  Name_len City_strip  \n",
       "0         OVI NAIKWADE        12   Shedshal  \n",
       "1   SUDARSHAN NAIKWADE        19   Kolhapur  \n",
       "2     PRADNYA NAIKWADE        16  Talandage  \n",
       "3      SUNITA NAIKWADE        15   Mangsuli  "
      ]
     },
     "execution_count": 13,
     "metadata": {},
     "output_type": "execute_result"
    }
   ],
   "source": [
    "df"
   ]
  },
  {
   "cell_type": "code",
   "execution_count": 14,
   "id": "0d7eace8",
   "metadata": {},
   "outputs": [
    {
     "data": {
      "text/plain": [
       "0            [Ovi, Naikwade]\n",
       "1    [, Sudarshan, Naikwade]\n",
       "2        [Pradnya, Naikwade]\n",
       "3         [Sunita, Naikwade]\n",
       "Name: Name, dtype: object"
      ]
     },
     "execution_count": 14,
     "metadata": {},
     "output_type": "execute_result"
    }
   ],
   "source": [
    "df['Name'].str.split(' ')"
   ]
  },
  {
   "cell_type": "code",
   "execution_count": 17,
   "id": "c76f55e9",
   "metadata": {},
   "outputs": [],
   "source": [
    "df['Name']= df['Name'].str.strip()"
   ]
  },
  {
   "cell_type": "code",
   "execution_count": 19,
   "id": "809fb160",
   "metadata": {},
   "outputs": [
    {
     "data": {
      "text/html": [
       "<div>\n",
       "<style scoped>\n",
       "    .dataframe tbody tr th:only-of-type {\n",
       "        vertical-align: middle;\n",
       "    }\n",
       "\n",
       "    .dataframe tbody tr th {\n",
       "        vertical-align: top;\n",
       "    }\n",
       "\n",
       "    .dataframe thead th {\n",
       "        text-align: right;\n",
       "    }\n",
       "</style>\n",
       "<table border=\"1\" class=\"dataframe\">\n",
       "  <thead>\n",
       "    <tr style=\"text-align: right;\">\n",
       "      <th></th>\n",
       "      <th>Name</th>\n",
       "      <th>City</th>\n",
       "      <th>State</th>\n",
       "      <th>Name_Lower</th>\n",
       "      <th>Name_Upper</th>\n",
       "      <th>Name_len</th>\n",
       "      <th>City_strip</th>\n",
       "      <th>First_Name</th>\n",
       "      <th>Last_Name</th>\n",
       "    </tr>\n",
       "  </thead>\n",
       "  <tbody>\n",
       "    <tr>\n",
       "      <th>0</th>\n",
       "      <td>Ovi Naikwade</td>\n",
       "      <td>Shedshal</td>\n",
       "      <td>MH</td>\n",
       "      <td>ovi naikwade</td>\n",
       "      <td>OVI NAIKWADE</td>\n",
       "      <td>12</td>\n",
       "      <td>Shedshal</td>\n",
       "      <td>Ovi</td>\n",
       "      <td>Naikwade</td>\n",
       "    </tr>\n",
       "    <tr>\n",
       "      <th>1</th>\n",
       "      <td>Sudarshan Naikwade</td>\n",
       "      <td>Kolhapur</td>\n",
       "      <td>MH</td>\n",
       "      <td>sudarshan naikwade</td>\n",
       "      <td>SUDARSHAN NAIKWADE</td>\n",
       "      <td>19</td>\n",
       "      <td>Kolhapur</td>\n",
       "      <td>Sudarshan</td>\n",
       "      <td>Naikwade</td>\n",
       "    </tr>\n",
       "    <tr>\n",
       "      <th>2</th>\n",
       "      <td>Pradnya Naikwade</td>\n",
       "      <td>Talandage</td>\n",
       "      <td>TL</td>\n",
       "      <td>pradnya naikwade</td>\n",
       "      <td>PRADNYA NAIKWADE</td>\n",
       "      <td>16</td>\n",
       "      <td>Talandage</td>\n",
       "      <td>Pradnya</td>\n",
       "      <td>Naikwade</td>\n",
       "    </tr>\n",
       "    <tr>\n",
       "      <th>3</th>\n",
       "      <td>Sunita Naikwade</td>\n",
       "      <td>Mangsuli</td>\n",
       "      <td>KA</td>\n",
       "      <td>sunita naikwade</td>\n",
       "      <td>SUNITA NAIKWADE</td>\n",
       "      <td>15</td>\n",
       "      <td>Mangsuli</td>\n",
       "      <td>Sunita</td>\n",
       "      <td>Naikwade</td>\n",
       "    </tr>\n",
       "  </tbody>\n",
       "</table>\n",
       "</div>"
      ],
      "text/plain": [
       "                 Name        City State           Name_Lower  \\\n",
       "0        Ovi Naikwade    Shedshal    MH         ovi naikwade   \n",
       "1  Sudarshan Naikwade   Kolhapur     MH   sudarshan naikwade   \n",
       "2    Pradnya Naikwade  Talandage     TL     pradnya naikwade   \n",
       "3     Sunita Naikwade   Mangsuli     KA      sunita naikwade   \n",
       "\n",
       "            Name_Upper  Name_len City_strip First_Name Last_Name  \n",
       "0         OVI NAIKWADE        12   Shedshal        Ovi  Naikwade  \n",
       "1   SUDARSHAN NAIKWADE        19   Kolhapur  Sudarshan  Naikwade  \n",
       "2     PRADNYA NAIKWADE        16  Talandage    Pradnya  Naikwade  \n",
       "3      SUNITA NAIKWADE        15   Mangsuli     Sunita  Naikwade  "
      ]
     },
     "execution_count": 19,
     "metadata": {},
     "output_type": "execute_result"
    }
   ],
   "source": [
    "df[['First_Name', 'Last_Name']] = df['Name'].str.split(' ', expand= True)\n",
    "df"
   ]
  },
  {
   "cell_type": "markdown",
   "id": "c6e56790",
   "metadata": {},
   "source": [
    "### 5. str.comtains()"
   ]
  },
  {
   "cell_type": "code",
   "execution_count": 34,
   "id": "e7e78332",
   "metadata": {},
   "outputs": [
    {
     "data": {
      "text/html": [
       "<div>\n",
       "<style scoped>\n",
       "    .dataframe tbody tr th:only-of-type {\n",
       "        vertical-align: middle;\n",
       "    }\n",
       "\n",
       "    .dataframe tbody tr th {\n",
       "        vertical-align: top;\n",
       "    }\n",
       "\n",
       "    .dataframe thead th {\n",
       "        text-align: right;\n",
       "    }\n",
       "</style>\n",
       "<table border=\"1\" class=\"dataframe\">\n",
       "  <thead>\n",
       "    <tr style=\"text-align: right;\">\n",
       "      <th></th>\n",
       "      <th>Name</th>\n",
       "      <th>City</th>\n",
       "      <th>State</th>\n",
       "      <th>Name_Lower</th>\n",
       "      <th>Name_Upper</th>\n",
       "      <th>Name_len</th>\n",
       "      <th>City_strip</th>\n",
       "      <th>First_Name</th>\n",
       "      <th>Last_Name</th>\n",
       "    </tr>\n",
       "  </thead>\n",
       "  <tbody>\n",
       "    <tr>\n",
       "      <th>0</th>\n",
       "      <td>Ovi Naikwade</td>\n",
       "      <td>Shedshal</td>\n",
       "      <td>MH</td>\n",
       "      <td>ovi naikwade</td>\n",
       "      <td>OVI NAIKWADE</td>\n",
       "      <td>12</td>\n",
       "      <td>Shedshal</td>\n",
       "      <td>Ovi</td>\n",
       "      <td>Naikwade</td>\n",
       "    </tr>\n",
       "  </tbody>\n",
       "</table>\n",
       "</div>"
      ],
      "text/plain": [
       "           Name       City State    Name_Lower    Name_Upper  Name_len  \\\n",
       "0  Ovi Naikwade   Shedshal    MH  ovi naikwade  OVI NAIKWADE        12   \n",
       "\n",
       "  City_strip First_Name Last_Name  \n",
       "0   Shedshal        Ovi  Naikwade  "
      ]
     },
     "execution_count": 34,
     "metadata": {},
     "output_type": "execute_result"
    }
   ],
   "source": [
    "df[df[\"Name\"].str.contains('Ovi')]"
   ]
  },
  {
   "cell_type": "code",
   "execution_count": null,
   "id": "99320c93",
   "metadata": {},
   "outputs": [],
   "source": []
  }
 ],
 "metadata": {
  "kernelspec": {
   "display_name": "Python 3 (ipykernel)",
   "language": "python",
   "name": "python3"
  },
  "language_info": {
   "codemirror_mode": {
    "name": "ipython",
    "version": 3
   },
   "file_extension": ".py",
   "mimetype": "text/x-python",
   "name": "python",
   "nbconvert_exporter": "python",
   "pygments_lexer": "ipython3",
   "version": "3.11.5"
  }
 },
 "nbformat": 4,
 "nbformat_minor": 5
}
