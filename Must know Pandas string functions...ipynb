{
 "cells": [
  {
   "cell_type": "code",
   "execution_count": 1,
   "id": "3d7360e4",
   "metadata": {},
   "outputs": [
    {
     "data": {
      "text/html": [
       "<div>\n",
       "<style scoped>\n",
       "    .dataframe tbody tr th:only-of-type {\n",
       "        vertical-align: middle;\n",
       "    }\n",
       "\n",
       "    .dataframe tbody tr th {\n",
       "        vertical-align: top;\n",
       "    }\n",
       "\n",
       "    .dataframe thead th {\n",
       "        text-align: right;\n",
       "    }\n",
       "</style>\n",
       "<table border=\"1\" class=\"dataframe\">\n",
       "  <thead>\n",
       "    <tr style=\"text-align: right;\">\n",
       "      <th></th>\n",
       "      <th>Name</th>\n",
       "      <th>City</th>\n",
       "      <th>State</th>\n",
       "    </tr>\n",
       "  </thead>\n",
       "  <tbody>\n",
       "    <tr>\n",
       "      <th>0</th>\n",
       "      <td>Abhijeet Bhatt</td>\n",
       "      <td>Sangli</td>\n",
       "      <td>MH</td>\n",
       "    </tr>\n",
       "    <tr>\n",
       "      <th>1</th>\n",
       "      <td>Suhas Pande</td>\n",
       "      <td>Kolhapur</td>\n",
       "      <td>MH</td>\n",
       "    </tr>\n",
       "    <tr>\n",
       "      <th>2</th>\n",
       "      <td>Ajit Patil</td>\n",
       "      <td>Pune</td>\n",
       "      <td>MH</td>\n",
       "    </tr>\n",
       "    <tr>\n",
       "      <th>3</th>\n",
       "      <td>Saniya Mirja</td>\n",
       "      <td>Belgum</td>\n",
       "      <td>KA</td>\n",
       "    </tr>\n",
       "  </tbody>\n",
       "</table>\n",
       "</div>"
      ],
      "text/plain": [
       "             Name       City State\n",
       "0  Abhijeet Bhatt     Sangli    MH\n",
       "1     Suhas Pande  Kolhapur     MH\n",
       "2      Ajit Patil      Pune     MH\n",
       "3    Saniya Mirja    Belgum     KA"
      ]
     },
     "execution_count": 1,
     "metadata": {},
     "output_type": "execute_result"
    }
   ],
   "source": [
    "import pandas as pd\n",
    "\n",
    "dict1 = {'Name': ['Abhijeet Bhatt', ' Suhas Pande', 'Ajit Patil', 'Saniya Mirja'],\n",
    "        'City':[' Sangli', 'Kolhapur ', 'Pune ', ' Belgum '],\n",
    "        'State':['MH', 'MH', 'MH', 'KA']}\n",
    "df = pd.DataFrame(dict1)\n",
    "df"
   ]
  },
  {
   "cell_type": "code",
   "execution_count": 2,
   "id": "2a0bab54",
   "metadata": {},
   "outputs": [
    {
     "data": {
      "text/html": [
       "<div>\n",
       "<style scoped>\n",
       "    .dataframe tbody tr th:only-of-type {\n",
       "        vertical-align: middle;\n",
       "    }\n",
       "\n",
       "    .dataframe tbody tr th {\n",
       "        vertical-align: top;\n",
       "    }\n",
       "\n",
       "    .dataframe thead th {\n",
       "        text-align: right;\n",
       "    }\n",
       "</style>\n",
       "<table border=\"1\" class=\"dataframe\">\n",
       "  <thead>\n",
       "    <tr style=\"text-align: right;\">\n",
       "      <th></th>\n",
       "      <th>Name</th>\n",
       "      <th>City</th>\n",
       "      <th>State</th>\n",
       "    </tr>\n",
       "  </thead>\n",
       "  <tbody>\n",
       "    <tr>\n",
       "      <th>0</th>\n",
       "      <td>Abhijeet Bhatt</td>\n",
       "      <td>Sangli</td>\n",
       "      <td>MH</td>\n",
       "    </tr>\n",
       "    <tr>\n",
       "      <th>1</th>\n",
       "      <td>Suhas Pande</td>\n",
       "      <td>Kolhapur</td>\n",
       "      <td>MH</td>\n",
       "    </tr>\n",
       "    <tr>\n",
       "      <th>2</th>\n",
       "      <td>Ajit Patil</td>\n",
       "      <td>Pune</td>\n",
       "      <td>MH</td>\n",
       "    </tr>\n",
       "    <tr>\n",
       "      <th>3</th>\n",
       "      <td>Saniya Mirja</td>\n",
       "      <td>Belgum</td>\n",
       "      <td>KA</td>\n",
       "    </tr>\n",
       "  </tbody>\n",
       "</table>\n",
       "</div>"
      ],
      "text/plain": [
       "             Name       City State\n",
       "0  Abhijeet Bhatt     Sangli    MH\n",
       "1     Suhas Pande  Kolhapur     MH\n",
       "2      Ajit Patil      Pune     MH\n",
       "3    Saniya Mirja    Belgum     KA"
      ]
     },
     "execution_count": 2,
     "metadata": {},
     "output_type": "execute_result"
    }
   ],
   "source": [
    "df1 = df.copy()\n",
    "df1"
   ]
  },
  {
   "cell_type": "markdown",
   "id": "818df993",
   "metadata": {},
   "source": [
    "### 1. str.lower()  and str.upper()"
   ]
  },
  {
   "cell_type": "code",
   "execution_count": 3,
   "id": "2dce4529",
   "metadata": {},
   "outputs": [
    {
     "data": {
      "text/plain": [
       "0    abhijeet bhatt\n",
       "1       suhas pande\n",
       "2        ajit patil\n",
       "3      saniya mirja\n",
       "Name: Name, dtype: object"
      ]
     },
     "execution_count": 3,
     "metadata": {},
     "output_type": "execute_result"
    }
   ],
   "source": [
    "df['Name'].str.lower()"
   ]
  },
  {
   "cell_type": "code",
   "execution_count": 4,
   "id": "bf0904a9",
   "metadata": {},
   "outputs": [
    {
     "data": {
      "text/html": [
       "<div>\n",
       "<style scoped>\n",
       "    .dataframe tbody tr th:only-of-type {\n",
       "        vertical-align: middle;\n",
       "    }\n",
       "\n",
       "    .dataframe tbody tr th {\n",
       "        vertical-align: top;\n",
       "    }\n",
       "\n",
       "    .dataframe thead th {\n",
       "        text-align: right;\n",
       "    }\n",
       "</style>\n",
       "<table border=\"1\" class=\"dataframe\">\n",
       "  <thead>\n",
       "    <tr style=\"text-align: right;\">\n",
       "      <th></th>\n",
       "      <th>Name</th>\n",
       "      <th>City</th>\n",
       "      <th>State</th>\n",
       "      <th>Name_Lower</th>\n",
       "    </tr>\n",
       "  </thead>\n",
       "  <tbody>\n",
       "    <tr>\n",
       "      <th>0</th>\n",
       "      <td>Abhijeet Bhatt</td>\n",
       "      <td>Sangli</td>\n",
       "      <td>MH</td>\n",
       "      <td>abhijeet bhatt</td>\n",
       "    </tr>\n",
       "    <tr>\n",
       "      <th>1</th>\n",
       "      <td>Suhas Pande</td>\n",
       "      <td>Kolhapur</td>\n",
       "      <td>MH</td>\n",
       "      <td>suhas pande</td>\n",
       "    </tr>\n",
       "    <tr>\n",
       "      <th>2</th>\n",
       "      <td>Ajit Patil</td>\n",
       "      <td>Pune</td>\n",
       "      <td>MH</td>\n",
       "      <td>ajit patil</td>\n",
       "    </tr>\n",
       "    <tr>\n",
       "      <th>3</th>\n",
       "      <td>Saniya Mirja</td>\n",
       "      <td>Belgum</td>\n",
       "      <td>KA</td>\n",
       "      <td>saniya mirja</td>\n",
       "    </tr>\n",
       "  </tbody>\n",
       "</table>\n",
       "</div>"
      ],
      "text/plain": [
       "             Name       City State      Name_Lower\n",
       "0  Abhijeet Bhatt     Sangli    MH  abhijeet bhatt\n",
       "1     Suhas Pande  Kolhapur     MH     suhas pande\n",
       "2      Ajit Patil      Pune     MH      ajit patil\n",
       "3    Saniya Mirja    Belgum     KA    saniya mirja"
      ]
     },
     "execution_count": 4,
     "metadata": {},
     "output_type": "execute_result"
    }
   ],
   "source": [
    "df['Name_Lower'] = df['Name'].str.lower()\n",
    "df"
   ]
  },
  {
   "cell_type": "code",
   "execution_count": 5,
   "id": "fe1d1932",
   "metadata": {},
   "outputs": [
    {
     "data": {
      "text/html": [
       "<div>\n",
       "<style scoped>\n",
       "    .dataframe tbody tr th:only-of-type {\n",
       "        vertical-align: middle;\n",
       "    }\n",
       "\n",
       "    .dataframe tbody tr th {\n",
       "        vertical-align: top;\n",
       "    }\n",
       "\n",
       "    .dataframe thead th {\n",
       "        text-align: right;\n",
       "    }\n",
       "</style>\n",
       "<table border=\"1\" class=\"dataframe\">\n",
       "  <thead>\n",
       "    <tr style=\"text-align: right;\">\n",
       "      <th></th>\n",
       "      <th>Name</th>\n",
       "      <th>City</th>\n",
       "      <th>State</th>\n",
       "      <th>Name_Lower</th>\n",
       "      <th>Name_Upper</th>\n",
       "    </tr>\n",
       "  </thead>\n",
       "  <tbody>\n",
       "    <tr>\n",
       "      <th>0</th>\n",
       "      <td>Abhijeet Bhatt</td>\n",
       "      <td>Sangli</td>\n",
       "      <td>MH</td>\n",
       "      <td>abhijeet bhatt</td>\n",
       "      <td>ABHIJEET BHATT</td>\n",
       "    </tr>\n",
       "    <tr>\n",
       "      <th>1</th>\n",
       "      <td>Suhas Pande</td>\n",
       "      <td>Kolhapur</td>\n",
       "      <td>MH</td>\n",
       "      <td>suhas pande</td>\n",
       "      <td>SUHAS PANDE</td>\n",
       "    </tr>\n",
       "    <tr>\n",
       "      <th>2</th>\n",
       "      <td>Ajit Patil</td>\n",
       "      <td>Pune</td>\n",
       "      <td>MH</td>\n",
       "      <td>ajit patil</td>\n",
       "      <td>AJIT PATIL</td>\n",
       "    </tr>\n",
       "    <tr>\n",
       "      <th>3</th>\n",
       "      <td>Saniya Mirja</td>\n",
       "      <td>Belgum</td>\n",
       "      <td>KA</td>\n",
       "      <td>saniya mirja</td>\n",
       "      <td>SANIYA MIRJA</td>\n",
       "    </tr>\n",
       "  </tbody>\n",
       "</table>\n",
       "</div>"
      ],
      "text/plain": [
       "             Name       City State      Name_Lower      Name_Upper\n",
       "0  Abhijeet Bhatt     Sangli    MH  abhijeet bhatt  ABHIJEET BHATT\n",
       "1     Suhas Pande  Kolhapur     MH     suhas pande     SUHAS PANDE\n",
       "2      Ajit Patil      Pune     MH      ajit patil      AJIT PATIL\n",
       "3    Saniya Mirja    Belgum     KA    saniya mirja    SANIYA MIRJA"
      ]
     },
     "execution_count": 5,
     "metadata": {},
     "output_type": "execute_result"
    }
   ],
   "source": [
    "df['Name_Upper'] = df['Name'].str.upper()\n",
    "df"
   ]
  },
  {
   "cell_type": "markdown",
   "id": "76041634",
   "metadata": {},
   "source": [
    "### str.len()"
   ]
  },
  {
   "cell_type": "code",
   "execution_count": 6,
   "id": "4cb16356",
   "metadata": {},
   "outputs": [
    {
     "data": {
      "text/plain": [
       "0    14\n",
       "1    12\n",
       "2    10\n",
       "3    12\n",
       "Name: Name, dtype: int64"
      ]
     },
     "execution_count": 6,
     "metadata": {},
     "output_type": "execute_result"
    }
   ],
   "source": [
    "df['Name'].str.len()"
   ]
  },
  {
   "cell_type": "code",
   "execution_count": 7,
   "id": "cb7da7d6",
   "metadata": {},
   "outputs": [
    {
     "data": {
      "text/html": [
       "<div>\n",
       "<style scoped>\n",
       "    .dataframe tbody tr th:only-of-type {\n",
       "        vertical-align: middle;\n",
       "    }\n",
       "\n",
       "    .dataframe tbody tr th {\n",
       "        vertical-align: top;\n",
       "    }\n",
       "\n",
       "    .dataframe thead th {\n",
       "        text-align: right;\n",
       "    }\n",
       "</style>\n",
       "<table border=\"1\" class=\"dataframe\">\n",
       "  <thead>\n",
       "    <tr style=\"text-align: right;\">\n",
       "      <th></th>\n",
       "      <th>Name</th>\n",
       "      <th>City</th>\n",
       "      <th>State</th>\n",
       "      <th>Name_Lower</th>\n",
       "      <th>Name_Upper</th>\n",
       "      <th>Name_len</th>\n",
       "    </tr>\n",
       "  </thead>\n",
       "  <tbody>\n",
       "    <tr>\n",
       "      <th>0</th>\n",
       "      <td>Abhijeet Bhatt</td>\n",
       "      <td>Sangli</td>\n",
       "      <td>MH</td>\n",
       "      <td>abhijeet bhatt</td>\n",
       "      <td>ABHIJEET BHATT</td>\n",
       "      <td>14</td>\n",
       "    </tr>\n",
       "    <tr>\n",
       "      <th>1</th>\n",
       "      <td>Suhas Pande</td>\n",
       "      <td>Kolhapur</td>\n",
       "      <td>MH</td>\n",
       "      <td>suhas pande</td>\n",
       "      <td>SUHAS PANDE</td>\n",
       "      <td>12</td>\n",
       "    </tr>\n",
       "    <tr>\n",
       "      <th>2</th>\n",
       "      <td>Ajit Patil</td>\n",
       "      <td>Pune</td>\n",
       "      <td>MH</td>\n",
       "      <td>ajit patil</td>\n",
       "      <td>AJIT PATIL</td>\n",
       "      <td>10</td>\n",
       "    </tr>\n",
       "    <tr>\n",
       "      <th>3</th>\n",
       "      <td>Saniya Mirja</td>\n",
       "      <td>Belgum</td>\n",
       "      <td>KA</td>\n",
       "      <td>saniya mirja</td>\n",
       "      <td>SANIYA MIRJA</td>\n",
       "      <td>12</td>\n",
       "    </tr>\n",
       "  </tbody>\n",
       "</table>\n",
       "</div>"
      ],
      "text/plain": [
       "             Name       City State      Name_Lower      Name_Upper  Name_len\n",
       "0  Abhijeet Bhatt     Sangli    MH  abhijeet bhatt  ABHIJEET BHATT        14\n",
       "1     Suhas Pande  Kolhapur     MH     suhas pande     SUHAS PANDE        12\n",
       "2      Ajit Patil      Pune     MH      ajit patil      AJIT PATIL        10\n",
       "3    Saniya Mirja    Belgum     KA    saniya mirja    SANIYA MIRJA        12"
      ]
     },
     "execution_count": 7,
     "metadata": {},
     "output_type": "execute_result"
    }
   ],
   "source": [
    "df['Name_len']= df['Name'].str.len()\n",
    "df"
   ]
  },
  {
   "cell_type": "markdown",
   "id": "6c105fce",
   "metadata": {},
   "source": [
    "### 3. str.strip()"
   ]
  },
  {
   "cell_type": "code",
   "execution_count": 8,
   "id": "f6077d02",
   "metadata": {},
   "outputs": [
    {
     "data": {
      "text/plain": [
       "' Belgum '"
      ]
     },
     "execution_count": 8,
     "metadata": {},
     "output_type": "execute_result"
    }
   ],
   "source": [
    "df['City'][3]"
   ]
  },
  {
   "cell_type": "code",
   "execution_count": 9,
   "id": "8d334261",
   "metadata": {},
   "outputs": [
    {
     "data": {
      "text/html": [
       "<div>\n",
       "<style scoped>\n",
       "    .dataframe tbody tr th:only-of-type {\n",
       "        vertical-align: middle;\n",
       "    }\n",
       "\n",
       "    .dataframe tbody tr th {\n",
       "        vertical-align: top;\n",
       "    }\n",
       "\n",
       "    .dataframe thead th {\n",
       "        text-align: right;\n",
       "    }\n",
       "</style>\n",
       "<table border=\"1\" class=\"dataframe\">\n",
       "  <thead>\n",
       "    <tr style=\"text-align: right;\">\n",
       "      <th></th>\n",
       "      <th>Name</th>\n",
       "      <th>City</th>\n",
       "      <th>State</th>\n",
       "      <th>Name_Lower</th>\n",
       "      <th>Name_Upper</th>\n",
       "      <th>Name_len</th>\n",
       "      <th>City_strip</th>\n",
       "    </tr>\n",
       "  </thead>\n",
       "  <tbody>\n",
       "    <tr>\n",
       "      <th>0</th>\n",
       "      <td>Abhijeet Bhatt</td>\n",
       "      <td>Sangli</td>\n",
       "      <td>MH</td>\n",
       "      <td>abhijeet bhatt</td>\n",
       "      <td>ABHIJEET BHATT</td>\n",
       "      <td>14</td>\n",
       "      <td>Sangli</td>\n",
       "    </tr>\n",
       "    <tr>\n",
       "      <th>1</th>\n",
       "      <td>Suhas Pande</td>\n",
       "      <td>Kolhapur</td>\n",
       "      <td>MH</td>\n",
       "      <td>suhas pande</td>\n",
       "      <td>SUHAS PANDE</td>\n",
       "      <td>12</td>\n",
       "      <td>Kolhapur</td>\n",
       "    </tr>\n",
       "    <tr>\n",
       "      <th>2</th>\n",
       "      <td>Ajit Patil</td>\n",
       "      <td>Pune</td>\n",
       "      <td>MH</td>\n",
       "      <td>ajit patil</td>\n",
       "      <td>AJIT PATIL</td>\n",
       "      <td>10</td>\n",
       "      <td>Pune</td>\n",
       "    </tr>\n",
       "    <tr>\n",
       "      <th>3</th>\n",
       "      <td>Saniya Mirja</td>\n",
       "      <td>Belgum</td>\n",
       "      <td>KA</td>\n",
       "      <td>saniya mirja</td>\n",
       "      <td>SANIYA MIRJA</td>\n",
       "      <td>12</td>\n",
       "      <td>Belgum</td>\n",
       "    </tr>\n",
       "  </tbody>\n",
       "</table>\n",
       "</div>"
      ],
      "text/plain": [
       "             Name       City State      Name_Lower      Name_Upper  Name_len  \\\n",
       "0  Abhijeet Bhatt     Sangli    MH  abhijeet bhatt  ABHIJEET BHATT        14   \n",
       "1     Suhas Pande  Kolhapur     MH     suhas pande     SUHAS PANDE        12   \n",
       "2      Ajit Patil      Pune     MH      ajit patil      AJIT PATIL        10   \n",
       "3    Saniya Mirja    Belgum     KA    saniya mirja    SANIYA MIRJA        12   \n",
       "\n",
       "  City_strip  \n",
       "0     Sangli  \n",
       "1   Kolhapur  \n",
       "2       Pune  \n",
       "3     Belgum  "
      ]
     },
     "execution_count": 9,
     "metadata": {},
     "output_type": "execute_result"
    }
   ],
   "source": [
    "df['City_strip']= df['City'].str.strip()\n",
    "df"
   ]
  },
  {
   "cell_type": "code",
   "execution_count": 10,
   "id": "0c178b0d",
   "metadata": {},
   "outputs": [
    {
     "data": {
      "text/plain": [
       "'Belgum'"
      ]
     },
     "execution_count": 10,
     "metadata": {},
     "output_type": "execute_result"
    }
   ],
   "source": [
    "df['City_strip'][3]"
   ]
  },
  {
   "cell_type": "code",
   "execution_count": 11,
   "id": "30c901fa",
   "metadata": {},
   "outputs": [
    {
     "data": {
      "text/plain": [
       "0       Sangli\n",
       "1    Kolhapur \n",
       "2        Pune \n",
       "3      Belgum \n",
       "Name: City, dtype: object"
      ]
     },
     "execution_count": 11,
     "metadata": {},
     "output_type": "execute_result"
    }
   ],
   "source": [
    "df[\"City\"].str.lstrip()"
   ]
  },
  {
   "cell_type": "code",
   "execution_count": 12,
   "id": "16ba841c",
   "metadata": {},
   "outputs": [
    {
     "data": {
      "text/plain": [
       "0      Sangli\n",
       "1    Kolhapur\n",
       "2        Pune\n",
       "3      Belgum\n",
       "Name: City, dtype: object"
      ]
     },
     "execution_count": 12,
     "metadata": {},
     "output_type": "execute_result"
    }
   ],
   "source": [
    "df['City'].str.rstrip()"
   ]
  },
  {
   "cell_type": "markdown",
   "id": "4b7e26a4",
   "metadata": {},
   "source": [
    "#### 4. str.split()"
   ]
  },
  {
   "cell_type": "code",
   "execution_count": 13,
   "id": "91f378d7",
   "metadata": {},
   "outputs": [
    {
     "data": {
      "text/html": [
       "<div>\n",
       "<style scoped>\n",
       "    .dataframe tbody tr th:only-of-type {\n",
       "        vertical-align: middle;\n",
       "    }\n",
       "\n",
       "    .dataframe tbody tr th {\n",
       "        vertical-align: top;\n",
       "    }\n",
       "\n",
       "    .dataframe thead th {\n",
       "        text-align: right;\n",
       "    }\n",
       "</style>\n",
       "<table border=\"1\" class=\"dataframe\">\n",
       "  <thead>\n",
       "    <tr style=\"text-align: right;\">\n",
       "      <th></th>\n",
       "      <th>Name</th>\n",
       "      <th>City</th>\n",
       "      <th>State</th>\n",
       "      <th>Name_Lower</th>\n",
       "      <th>Name_Upper</th>\n",
       "      <th>Name_len</th>\n",
       "      <th>City_strip</th>\n",
       "    </tr>\n",
       "  </thead>\n",
       "  <tbody>\n",
       "    <tr>\n",
       "      <th>0</th>\n",
       "      <td>Abhijeet Bhatt</td>\n",
       "      <td>Sangli</td>\n",
       "      <td>MH</td>\n",
       "      <td>abhijeet bhatt</td>\n",
       "      <td>ABHIJEET BHATT</td>\n",
       "      <td>14</td>\n",
       "      <td>Sangli</td>\n",
       "    </tr>\n",
       "    <tr>\n",
       "      <th>1</th>\n",
       "      <td>Suhas Pande</td>\n",
       "      <td>Kolhapur</td>\n",
       "      <td>MH</td>\n",
       "      <td>suhas pande</td>\n",
       "      <td>SUHAS PANDE</td>\n",
       "      <td>12</td>\n",
       "      <td>Kolhapur</td>\n",
       "    </tr>\n",
       "    <tr>\n",
       "      <th>2</th>\n",
       "      <td>Ajit Patil</td>\n",
       "      <td>Pune</td>\n",
       "      <td>MH</td>\n",
       "      <td>ajit patil</td>\n",
       "      <td>AJIT PATIL</td>\n",
       "      <td>10</td>\n",
       "      <td>Pune</td>\n",
       "    </tr>\n",
       "    <tr>\n",
       "      <th>3</th>\n",
       "      <td>Saniya Mirja</td>\n",
       "      <td>Belgum</td>\n",
       "      <td>KA</td>\n",
       "      <td>saniya mirja</td>\n",
       "      <td>SANIYA MIRJA</td>\n",
       "      <td>12</td>\n",
       "      <td>Belgum</td>\n",
       "    </tr>\n",
       "  </tbody>\n",
       "</table>\n",
       "</div>"
      ],
      "text/plain": [
       "             Name       City State      Name_Lower      Name_Upper  Name_len  \\\n",
       "0  Abhijeet Bhatt     Sangli    MH  abhijeet bhatt  ABHIJEET BHATT        14   \n",
       "1     Suhas Pande  Kolhapur     MH     suhas pande     SUHAS PANDE        12   \n",
       "2      Ajit Patil      Pune     MH      ajit patil      AJIT PATIL        10   \n",
       "3    Saniya Mirja    Belgum     KA    saniya mirja    SANIYA MIRJA        12   \n",
       "\n",
       "  City_strip  \n",
       "0     Sangli  \n",
       "1   Kolhapur  \n",
       "2       Pune  \n",
       "3     Belgum  "
      ]
     },
     "execution_count": 13,
     "metadata": {},
     "output_type": "execute_result"
    }
   ],
   "source": [
    "df"
   ]
  },
  {
   "cell_type": "code",
   "execution_count": 14,
   "id": "0d7eace8",
   "metadata": {},
   "outputs": [
    {
     "data": {
      "text/plain": [
       "0    [Abhijeet, Bhatt]\n",
       "1     [, Suhas, Pande]\n",
       "2        [Ajit, Patil]\n",
       "3      [Saniya, Mirja]\n",
       "Name: Name, dtype: object"
      ]
     },
     "execution_count": 14,
     "metadata": {},
     "output_type": "execute_result"
    }
   ],
   "source": [
    "df['Name'].str.split(' ')"
   ]
  },
  {
   "cell_type": "code",
   "execution_count": 15,
   "id": "c76f55e9",
   "metadata": {},
   "outputs": [],
   "source": [
    "df['Name']= df['Name'].str.strip()"
   ]
  },
  {
   "cell_type": "code",
   "execution_count": 16,
   "id": "809fb160",
   "metadata": {},
   "outputs": [
    {
     "data": {
      "text/html": [
       "<div>\n",
       "<style scoped>\n",
       "    .dataframe tbody tr th:only-of-type {\n",
       "        vertical-align: middle;\n",
       "    }\n",
       "\n",
       "    .dataframe tbody tr th {\n",
       "        vertical-align: top;\n",
       "    }\n",
       "\n",
       "    .dataframe thead th {\n",
       "        text-align: right;\n",
       "    }\n",
       "</style>\n",
       "<table border=\"1\" class=\"dataframe\">\n",
       "  <thead>\n",
       "    <tr style=\"text-align: right;\">\n",
       "      <th></th>\n",
       "      <th>Name</th>\n",
       "      <th>City</th>\n",
       "      <th>State</th>\n",
       "      <th>Name_Lower</th>\n",
       "      <th>Name_Upper</th>\n",
       "      <th>Name_len</th>\n",
       "      <th>City_strip</th>\n",
       "      <th>First_Name</th>\n",
       "      <th>Last_Name</th>\n",
       "    </tr>\n",
       "  </thead>\n",
       "  <tbody>\n",
       "    <tr>\n",
       "      <th>0</th>\n",
       "      <td>Abhijeet Bhatt</td>\n",
       "      <td>Sangli</td>\n",
       "      <td>MH</td>\n",
       "      <td>abhijeet bhatt</td>\n",
       "      <td>ABHIJEET BHATT</td>\n",
       "      <td>14</td>\n",
       "      <td>Sangli</td>\n",
       "      <td>Abhijeet</td>\n",
       "      <td>Bhatt</td>\n",
       "    </tr>\n",
       "    <tr>\n",
       "      <th>1</th>\n",
       "      <td>Suhas Pande</td>\n",
       "      <td>Kolhapur</td>\n",
       "      <td>MH</td>\n",
       "      <td>suhas pande</td>\n",
       "      <td>SUHAS PANDE</td>\n",
       "      <td>12</td>\n",
       "      <td>Kolhapur</td>\n",
       "      <td>Suhas</td>\n",
       "      <td>Pande</td>\n",
       "    </tr>\n",
       "    <tr>\n",
       "      <th>2</th>\n",
       "      <td>Ajit Patil</td>\n",
       "      <td>Pune</td>\n",
       "      <td>MH</td>\n",
       "      <td>ajit patil</td>\n",
       "      <td>AJIT PATIL</td>\n",
       "      <td>10</td>\n",
       "      <td>Pune</td>\n",
       "      <td>Ajit</td>\n",
       "      <td>Patil</td>\n",
       "    </tr>\n",
       "    <tr>\n",
       "      <th>3</th>\n",
       "      <td>Saniya Mirja</td>\n",
       "      <td>Belgum</td>\n",
       "      <td>KA</td>\n",
       "      <td>saniya mirja</td>\n",
       "      <td>SANIYA MIRJA</td>\n",
       "      <td>12</td>\n",
       "      <td>Belgum</td>\n",
       "      <td>Saniya</td>\n",
       "      <td>Mirja</td>\n",
       "    </tr>\n",
       "  </tbody>\n",
       "</table>\n",
       "</div>"
      ],
      "text/plain": [
       "             Name       City State      Name_Lower      Name_Upper  Name_len  \\\n",
       "0  Abhijeet Bhatt     Sangli    MH  abhijeet bhatt  ABHIJEET BHATT        14   \n",
       "1     Suhas Pande  Kolhapur     MH     suhas pande     SUHAS PANDE        12   \n",
       "2      Ajit Patil      Pune     MH      ajit patil      AJIT PATIL        10   \n",
       "3    Saniya Mirja    Belgum     KA    saniya mirja    SANIYA MIRJA        12   \n",
       "\n",
       "  City_strip First_Name Last_Name  \n",
       "0     Sangli   Abhijeet     Bhatt  \n",
       "1   Kolhapur      Suhas     Pande  \n",
       "2       Pune       Ajit     Patil  \n",
       "3     Belgum     Saniya     Mirja  "
      ]
     },
     "execution_count": 16,
     "metadata": {},
     "output_type": "execute_result"
    }
   ],
   "source": [
    "df[['First_Name', 'Last_Name']] = df['Name'].str.split(' ', expand= True)\n",
    "df"
   ]
  },
  {
   "cell_type": "markdown",
   "id": "c6e56790",
   "metadata": {},
   "source": [
    "### 5. str.comtains()"
   ]
  },
  {
   "cell_type": "code",
   "execution_count": 19,
   "id": "e7e78332",
   "metadata": {},
   "outputs": [
    {
     "data": {
      "text/html": [
       "<div>\n",
       "<style scoped>\n",
       "    .dataframe tbody tr th:only-of-type {\n",
       "        vertical-align: middle;\n",
       "    }\n",
       "\n",
       "    .dataframe tbody tr th {\n",
       "        vertical-align: top;\n",
       "    }\n",
       "\n",
       "    .dataframe thead th {\n",
       "        text-align: right;\n",
       "    }\n",
       "</style>\n",
       "<table border=\"1\" class=\"dataframe\">\n",
       "  <thead>\n",
       "    <tr style=\"text-align: right;\">\n",
       "      <th></th>\n",
       "      <th>Name</th>\n",
       "      <th>City</th>\n",
       "      <th>State</th>\n",
       "      <th>Name_Lower</th>\n",
       "      <th>Name_Upper</th>\n",
       "      <th>Name_len</th>\n",
       "      <th>City_strip</th>\n",
       "      <th>First_Name</th>\n",
       "      <th>Last_Name</th>\n",
       "    </tr>\n",
       "  </thead>\n",
       "  <tbody>\n",
       "    <tr>\n",
       "      <th>1</th>\n",
       "      <td>Suhas Pande</td>\n",
       "      <td>Kolhapur</td>\n",
       "      <td>MH</td>\n",
       "      <td>suhas pande</td>\n",
       "      <td>SUHAS PANDE</td>\n",
       "      <td>12</td>\n",
       "      <td>Kolhapur</td>\n",
       "      <td>Suhas</td>\n",
       "      <td>Pande</td>\n",
       "    </tr>\n",
       "  </tbody>\n",
       "</table>\n",
       "</div>"
      ],
      "text/plain": [
       "          Name       City State    Name_Lower    Name_Upper  Name_len  \\\n",
       "1  Suhas Pande  Kolhapur     MH   suhas pande   SUHAS PANDE        12   \n",
       "\n",
       "  City_strip First_Name Last_Name  \n",
       "1   Kolhapur      Suhas     Pande  "
      ]
     },
     "execution_count": 19,
     "metadata": {},
     "output_type": "execute_result"
    }
   ],
   "source": [
    "df[df[\"Name\"].str.contains('Suhas')]"
   ]
  },
  {
   "cell_type": "markdown",
   "id": "d9ed37b8",
   "metadata": {},
   "source": [
    "### 6. str.repalce()"
   ]
  },
  {
   "cell_type": "code",
   "execution_count": 20,
   "id": "aa4a0b16",
   "metadata": {},
   "outputs": [
    {
     "data": {
      "text/html": [
       "<div>\n",
       "<style scoped>\n",
       "    .dataframe tbody tr th:only-of-type {\n",
       "        vertical-align: middle;\n",
       "    }\n",
       "\n",
       "    .dataframe tbody tr th {\n",
       "        vertical-align: top;\n",
       "    }\n",
       "\n",
       "    .dataframe thead th {\n",
       "        text-align: right;\n",
       "    }\n",
       "</style>\n",
       "<table border=\"1\" class=\"dataframe\">\n",
       "  <thead>\n",
       "    <tr style=\"text-align: right;\">\n",
       "      <th></th>\n",
       "      <th>Name</th>\n",
       "      <th>City</th>\n",
       "      <th>State</th>\n",
       "      <th>Name_Lower</th>\n",
       "      <th>Name_Upper</th>\n",
       "      <th>Name_len</th>\n",
       "      <th>City_strip</th>\n",
       "      <th>First_Name</th>\n",
       "      <th>Last_Name</th>\n",
       "    </tr>\n",
       "  </thead>\n",
       "  <tbody>\n",
       "    <tr>\n",
       "      <th>0</th>\n",
       "      <td>Abhijeet Bhatt</td>\n",
       "      <td>Sangli</td>\n",
       "      <td>MH</td>\n",
       "      <td>abhijeet bhatt</td>\n",
       "      <td>ABHIJEET BHATT</td>\n",
       "      <td>14</td>\n",
       "      <td>Sangli</td>\n",
       "      <td>Abhijeet</td>\n",
       "      <td>Bhatt</td>\n",
       "    </tr>\n",
       "    <tr>\n",
       "      <th>1</th>\n",
       "      <td>Suhas Pande</td>\n",
       "      <td>Kolhapur</td>\n",
       "      <td>MH</td>\n",
       "      <td>suhas pande</td>\n",
       "      <td>SUHAS PANDE</td>\n",
       "      <td>12</td>\n",
       "      <td>Kolhapur</td>\n",
       "      <td>Suhas</td>\n",
       "      <td>Pande</td>\n",
       "    </tr>\n",
       "    <tr>\n",
       "      <th>2</th>\n",
       "      <td>Ajit Patil</td>\n",
       "      <td>Pune</td>\n",
       "      <td>MH</td>\n",
       "      <td>ajit patil</td>\n",
       "      <td>AJIT PATIL</td>\n",
       "      <td>10</td>\n",
       "      <td>Pune</td>\n",
       "      <td>Ajit</td>\n",
       "      <td>Patil</td>\n",
       "    </tr>\n",
       "    <tr>\n",
       "      <th>3</th>\n",
       "      <td>Saniya Mirja</td>\n",
       "      <td>Belgum</td>\n",
       "      <td>KA</td>\n",
       "      <td>saniya mirja</td>\n",
       "      <td>SANIYA MIRJA</td>\n",
       "      <td>12</td>\n",
       "      <td>Belgum</td>\n",
       "      <td>Saniya</td>\n",
       "      <td>Mirja</td>\n",
       "    </tr>\n",
       "  </tbody>\n",
       "</table>\n",
       "</div>"
      ],
      "text/plain": [
       "             Name       City State      Name_Lower      Name_Upper  Name_len  \\\n",
       "0  Abhijeet Bhatt     Sangli    MH  abhijeet bhatt  ABHIJEET BHATT        14   \n",
       "1     Suhas Pande  Kolhapur     MH     suhas pande     SUHAS PANDE        12   \n",
       "2      Ajit Patil      Pune     MH      ajit patil      AJIT PATIL        10   \n",
       "3    Saniya Mirja    Belgum     KA    saniya mirja    SANIYA MIRJA        12   \n",
       "\n",
       "  City_strip First_Name Last_Name  \n",
       "0     Sangli   Abhijeet     Bhatt  \n",
       "1   Kolhapur      Suhas     Pande  \n",
       "2       Pune       Ajit     Patil  \n",
       "3     Belgum     Saniya     Mirja  "
      ]
     },
     "execution_count": 20,
     "metadata": {},
     "output_type": "execute_result"
    }
   ],
   "source": [
    "df"
   ]
  },
  {
   "cell_type": "code",
   "execution_count": 21,
   "id": "ec663f07",
   "metadata": {},
   "outputs": [
    {
     "data": {
      "text/plain": [
       "0    Maharashtra\n",
       "1    Maharashtra\n",
       "2    Maharashtra\n",
       "3             KA\n",
       "Name: State, dtype: object"
      ]
     },
     "execution_count": 21,
     "metadata": {},
     "output_type": "execute_result"
    }
   ],
   "source": [
    "df['State'].str.replace('MH', 'Maharashtra')"
   ]
  },
  {
   "cell_type": "code",
   "execution_count": 22,
   "id": "487e34f9",
   "metadata": {},
   "outputs": [],
   "source": [
    "df[\"Replaced_State\"]= df['State'].str.replace('MH', 'Maharashtra')"
   ]
  },
  {
   "cell_type": "code",
   "execution_count": 23,
   "id": "25051571",
   "metadata": {},
   "outputs": [
    {
     "data": {
      "text/html": [
       "<div>\n",
       "<style scoped>\n",
       "    .dataframe tbody tr th:only-of-type {\n",
       "        vertical-align: middle;\n",
       "    }\n",
       "\n",
       "    .dataframe tbody tr th {\n",
       "        vertical-align: top;\n",
       "    }\n",
       "\n",
       "    .dataframe thead th {\n",
       "        text-align: right;\n",
       "    }\n",
       "</style>\n",
       "<table border=\"1\" class=\"dataframe\">\n",
       "  <thead>\n",
       "    <tr style=\"text-align: right;\">\n",
       "      <th></th>\n",
       "      <th>Name</th>\n",
       "      <th>City</th>\n",
       "      <th>State</th>\n",
       "      <th>Name_Lower</th>\n",
       "      <th>Name_Upper</th>\n",
       "      <th>Name_len</th>\n",
       "      <th>City_strip</th>\n",
       "      <th>First_Name</th>\n",
       "      <th>Last_Name</th>\n",
       "      <th>Replaced_State</th>\n",
       "    </tr>\n",
       "  </thead>\n",
       "  <tbody>\n",
       "    <tr>\n",
       "      <th>0</th>\n",
       "      <td>Abhijeet Bhatt</td>\n",
       "      <td>Sangli</td>\n",
       "      <td>MH</td>\n",
       "      <td>abhijeet bhatt</td>\n",
       "      <td>ABHIJEET BHATT</td>\n",
       "      <td>14</td>\n",
       "      <td>Sangli</td>\n",
       "      <td>Abhijeet</td>\n",
       "      <td>Bhatt</td>\n",
       "      <td>Maharashtra</td>\n",
       "    </tr>\n",
       "    <tr>\n",
       "      <th>1</th>\n",
       "      <td>Suhas Pande</td>\n",
       "      <td>Kolhapur</td>\n",
       "      <td>MH</td>\n",
       "      <td>suhas pande</td>\n",
       "      <td>SUHAS PANDE</td>\n",
       "      <td>12</td>\n",
       "      <td>Kolhapur</td>\n",
       "      <td>Suhas</td>\n",
       "      <td>Pande</td>\n",
       "      <td>Maharashtra</td>\n",
       "    </tr>\n",
       "    <tr>\n",
       "      <th>2</th>\n",
       "      <td>Ajit Patil</td>\n",
       "      <td>Pune</td>\n",
       "      <td>MH</td>\n",
       "      <td>ajit patil</td>\n",
       "      <td>AJIT PATIL</td>\n",
       "      <td>10</td>\n",
       "      <td>Pune</td>\n",
       "      <td>Ajit</td>\n",
       "      <td>Patil</td>\n",
       "      <td>Maharashtra</td>\n",
       "    </tr>\n",
       "    <tr>\n",
       "      <th>3</th>\n",
       "      <td>Saniya Mirja</td>\n",
       "      <td>Belgum</td>\n",
       "      <td>KA</td>\n",
       "      <td>saniya mirja</td>\n",
       "      <td>SANIYA MIRJA</td>\n",
       "      <td>12</td>\n",
       "      <td>Belgum</td>\n",
       "      <td>Saniya</td>\n",
       "      <td>Mirja</td>\n",
       "      <td>KA</td>\n",
       "    </tr>\n",
       "  </tbody>\n",
       "</table>\n",
       "</div>"
      ],
      "text/plain": [
       "             Name       City State      Name_Lower      Name_Upper  Name_len  \\\n",
       "0  Abhijeet Bhatt     Sangli    MH  abhijeet bhatt  ABHIJEET BHATT        14   \n",
       "1     Suhas Pande  Kolhapur     MH     suhas pande     SUHAS PANDE        12   \n",
       "2      Ajit Patil      Pune     MH      ajit patil      AJIT PATIL        10   \n",
       "3    Saniya Mirja    Belgum     KA    saniya mirja    SANIYA MIRJA        12   \n",
       "\n",
       "  City_strip First_Name Last_Name Replaced_State  \n",
       "0     Sangli   Abhijeet     Bhatt    Maharashtra  \n",
       "1   Kolhapur      Suhas     Pande    Maharashtra  \n",
       "2       Pune       Ajit     Patil    Maharashtra  \n",
       "3     Belgum     Saniya     Mirja             KA  "
      ]
     },
     "execution_count": 23,
     "metadata": {},
     "output_type": "execute_result"
    }
   ],
   "source": [
    "df"
   ]
  },
  {
   "cell_type": "code",
   "execution_count": 24,
   "id": "9bc333a8",
   "metadata": {},
   "outputs": [
    {
     "data": {
      "text/html": [
       "<div>\n",
       "<style scoped>\n",
       "    .dataframe tbody tr th:only-of-type {\n",
       "        vertical-align: middle;\n",
       "    }\n",
       "\n",
       "    .dataframe tbody tr th {\n",
       "        vertical-align: top;\n",
       "    }\n",
       "\n",
       "    .dataframe thead th {\n",
       "        text-align: right;\n",
       "    }\n",
       "</style>\n",
       "<table border=\"1\" class=\"dataframe\">\n",
       "  <thead>\n",
       "    <tr style=\"text-align: right;\">\n",
       "      <th></th>\n",
       "      <th>Name</th>\n",
       "      <th>City</th>\n",
       "      <th>State</th>\n",
       "      <th>Name_Lower</th>\n",
       "      <th>Name_Upper</th>\n",
       "      <th>Name_len</th>\n",
       "      <th>City_strip</th>\n",
       "      <th>First_Name</th>\n",
       "      <th>Last_Name</th>\n",
       "      <th>Replaced_State</th>\n",
       "    </tr>\n",
       "  </thead>\n",
       "  <tbody>\n",
       "    <tr>\n",
       "      <th>0</th>\n",
       "      <td>Abhijeet Bhatt</td>\n",
       "      <td>Sangli</td>\n",
       "      <td>MH</td>\n",
       "      <td>abhijeet bhatt</td>\n",
       "      <td>ABHIJEET BHATT</td>\n",
       "      <td>14</td>\n",
       "      <td>Sangli</td>\n",
       "      <td>Abhijeet</td>\n",
       "      <td>Bhatt</td>\n",
       "      <td>Maharashtra</td>\n",
       "    </tr>\n",
       "    <tr>\n",
       "      <th>1</th>\n",
       "      <td>Suhas Pande</td>\n",
       "      <td>Kolhapur</td>\n",
       "      <td>MH</td>\n",
       "      <td>suhas pande</td>\n",
       "      <td>SUHAS PANDE</td>\n",
       "      <td>12</td>\n",
       "      <td>Kolhapur</td>\n",
       "      <td>Suhas</td>\n",
       "      <td>Pande</td>\n",
       "      <td>Maharashtra</td>\n",
       "    </tr>\n",
       "    <tr>\n",
       "      <th>2</th>\n",
       "      <td>Ajit Patil</td>\n",
       "      <td>Pune</td>\n",
       "      <td>MH</td>\n",
       "      <td>ajit patil</td>\n",
       "      <td>AJIT PATIL</td>\n",
       "      <td>10</td>\n",
       "      <td>Pune</td>\n",
       "      <td>Ajit</td>\n",
       "      <td>Patil</td>\n",
       "      <td>Maharashtra</td>\n",
       "    </tr>\n",
       "    <tr>\n",
       "      <th>3</th>\n",
       "      <td>Saniya Mirja</td>\n",
       "      <td>Belgum</td>\n",
       "      <td>KA</td>\n",
       "      <td>saniya mirja</td>\n",
       "      <td>SANIYA MIRJA</td>\n",
       "      <td>12</td>\n",
       "      <td>Belgum</td>\n",
       "      <td>Saniya</td>\n",
       "      <td>Mirja</td>\n",
       "      <td>Karnataka</td>\n",
       "    </tr>\n",
       "  </tbody>\n",
       "</table>\n",
       "</div>"
      ],
      "text/plain": [
       "             Name       City State      Name_Lower      Name_Upper  Name_len  \\\n",
       "0  Abhijeet Bhatt     Sangli    MH  abhijeet bhatt  ABHIJEET BHATT        14   \n",
       "1     Suhas Pande  Kolhapur     MH     suhas pande     SUHAS PANDE        12   \n",
       "2      Ajit Patil      Pune     MH      ajit patil      AJIT PATIL        10   \n",
       "3    Saniya Mirja    Belgum     KA    saniya mirja    SANIYA MIRJA        12   \n",
       "\n",
       "  City_strip First_Name Last_Name Replaced_State  \n",
       "0     Sangli   Abhijeet     Bhatt    Maharashtra  \n",
       "1   Kolhapur      Suhas     Pande    Maharashtra  \n",
       "2       Pune       Ajit     Patil    Maharashtra  \n",
       "3     Belgum     Saniya     Mirja      Karnataka  "
      ]
     },
     "execution_count": 24,
     "metadata": {},
     "output_type": "execute_result"
    }
   ],
   "source": [
    "df[\"Replaced_State\"]= df['State'].str.replace('MH', 'Maharashtra').str.replace('KA', \"Karnataka\")\n",
    "df"
   ]
  },
  {
   "cell_type": "markdown",
   "id": "7e854311",
   "metadata": {},
   "source": [
    "### 7. str.startswith()  and  str.endswith()"
   ]
  },
  {
   "cell_type": "code",
   "execution_count": 27,
   "id": "dc18f15e",
   "metadata": {},
   "outputs": [
    {
     "data": {
      "text/plain": [
       "0     True\n",
       "1    False\n",
       "2     True\n",
       "3    False\n",
       "Name: First_Name, dtype: bool"
      ]
     },
     "execution_count": 27,
     "metadata": {},
     "output_type": "execute_result"
    }
   ],
   "source": [
    "df['First_Name'].str.startswith('A')"
   ]
  },
  {
   "cell_type": "code",
   "execution_count": 28,
   "id": "69f9321f",
   "metadata": {},
   "outputs": [
    {
     "data": {
      "text/html": [
       "<div>\n",
       "<style scoped>\n",
       "    .dataframe tbody tr th:only-of-type {\n",
       "        vertical-align: middle;\n",
       "    }\n",
       "\n",
       "    .dataframe tbody tr th {\n",
       "        vertical-align: top;\n",
       "    }\n",
       "\n",
       "    .dataframe thead th {\n",
       "        text-align: right;\n",
       "    }\n",
       "</style>\n",
       "<table border=\"1\" class=\"dataframe\">\n",
       "  <thead>\n",
       "    <tr style=\"text-align: right;\">\n",
       "      <th></th>\n",
       "      <th>Name</th>\n",
       "      <th>City</th>\n",
       "      <th>State</th>\n",
       "      <th>Name_Lower</th>\n",
       "      <th>Name_Upper</th>\n",
       "      <th>Name_len</th>\n",
       "      <th>City_strip</th>\n",
       "      <th>First_Name</th>\n",
       "      <th>Last_Name</th>\n",
       "      <th>Replaced_State</th>\n",
       "    </tr>\n",
       "  </thead>\n",
       "  <tbody>\n",
       "    <tr>\n",
       "      <th>0</th>\n",
       "      <td>Abhijeet Bhatt</td>\n",
       "      <td>Sangli</td>\n",
       "      <td>MH</td>\n",
       "      <td>abhijeet bhatt</td>\n",
       "      <td>ABHIJEET BHATT</td>\n",
       "      <td>14</td>\n",
       "      <td>Sangli</td>\n",
       "      <td>Abhijeet</td>\n",
       "      <td>Bhatt</td>\n",
       "      <td>Maharashtra</td>\n",
       "    </tr>\n",
       "    <tr>\n",
       "      <th>2</th>\n",
       "      <td>Ajit Patil</td>\n",
       "      <td>Pune</td>\n",
       "      <td>MH</td>\n",
       "      <td>ajit patil</td>\n",
       "      <td>AJIT PATIL</td>\n",
       "      <td>10</td>\n",
       "      <td>Pune</td>\n",
       "      <td>Ajit</td>\n",
       "      <td>Patil</td>\n",
       "      <td>Maharashtra</td>\n",
       "    </tr>\n",
       "  </tbody>\n",
       "</table>\n",
       "</div>"
      ],
      "text/plain": [
       "             Name     City State      Name_Lower      Name_Upper  Name_len  \\\n",
       "0  Abhijeet Bhatt   Sangli    MH  abhijeet bhatt  ABHIJEET BHATT        14   \n",
       "2      Ajit Patil    Pune     MH      ajit patil      AJIT PATIL        10   \n",
       "\n",
       "  City_strip First_Name Last_Name Replaced_State  \n",
       "0     Sangli   Abhijeet     Bhatt    Maharashtra  \n",
       "2       Pune       Ajit     Patil    Maharashtra  "
      ]
     },
     "execution_count": 28,
     "metadata": {},
     "output_type": "execute_result"
    }
   ],
   "source": [
    "df[df['First_Name'].str.startswith('A')]"
   ]
  },
  {
   "cell_type": "code",
   "execution_count": 38,
   "id": "ff888dd4",
   "metadata": {},
   "outputs": [
    {
     "data": {
      "text/plain": [
       "0    False\n",
       "1    False\n",
       "2    False\n",
       "3     True\n",
       "Name: First_Name, dtype: bool"
      ]
     },
     "execution_count": 38,
     "metadata": {},
     "output_type": "execute_result"
    }
   ],
   "source": [
    "df['First_Name'].str.endswith('a')"
   ]
  },
  {
   "cell_type": "code",
   "execution_count": 31,
   "id": "500da3fe",
   "metadata": {},
   "outputs": [
    {
     "data": {
      "text/html": [
       "<div>\n",
       "<style scoped>\n",
       "    .dataframe tbody tr th:only-of-type {\n",
       "        vertical-align: middle;\n",
       "    }\n",
       "\n",
       "    .dataframe tbody tr th {\n",
       "        vertical-align: top;\n",
       "    }\n",
       "\n",
       "    .dataframe thead th {\n",
       "        text-align: right;\n",
       "    }\n",
       "</style>\n",
       "<table border=\"1\" class=\"dataframe\">\n",
       "  <thead>\n",
       "    <tr style=\"text-align: right;\">\n",
       "      <th></th>\n",
       "      <th>Name</th>\n",
       "      <th>City</th>\n",
       "      <th>State</th>\n",
       "      <th>Name_Lower</th>\n",
       "      <th>Name_Upper</th>\n",
       "      <th>Name_len</th>\n",
       "      <th>City_strip</th>\n",
       "      <th>First_Name</th>\n",
       "      <th>Last_Name</th>\n",
       "      <th>Replaced_State</th>\n",
       "    </tr>\n",
       "  </thead>\n",
       "  <tbody>\n",
       "    <tr>\n",
       "      <th>3</th>\n",
       "      <td>Saniya Mirja</td>\n",
       "      <td>Belgum</td>\n",
       "      <td>KA</td>\n",
       "      <td>saniya mirja</td>\n",
       "      <td>SANIYA MIRJA</td>\n",
       "      <td>12</td>\n",
       "      <td>Belgum</td>\n",
       "      <td>Saniya</td>\n",
       "      <td>Mirja</td>\n",
       "      <td>Karnataka</td>\n",
       "    </tr>\n",
       "  </tbody>\n",
       "</table>\n",
       "</div>"
      ],
      "text/plain": [
       "           Name      City State    Name_Lower    Name_Upper  Name_len  \\\n",
       "3  Saniya Mirja   Belgum     KA  saniya mirja  SANIYA MIRJA        12   \n",
       "\n",
       "  City_strip First_Name Last_Name Replaced_State  \n",
       "3     Belgum     Saniya     Mirja      Karnataka  "
      ]
     },
     "execution_count": 31,
     "metadata": {},
     "output_type": "execute_result"
    }
   ],
   "source": [
    "df[df['First_Name'].str.endswith('a')]"
   ]
  },
  {
   "cell_type": "markdown",
   "id": "63031b26",
   "metadata": {},
   "source": [
    "### 8.  str.cat()"
   ]
  },
  {
   "cell_type": "code",
   "execution_count": 40,
   "id": "4690da55",
   "metadata": {},
   "outputs": [
    {
     "data": {
      "text/html": [
       "<div>\n",
       "<style scoped>\n",
       "    .dataframe tbody tr th:only-of-type {\n",
       "        vertical-align: middle;\n",
       "    }\n",
       "\n",
       "    .dataframe tbody tr th {\n",
       "        vertical-align: top;\n",
       "    }\n",
       "\n",
       "    .dataframe thead th {\n",
       "        text-align: right;\n",
       "    }\n",
       "</style>\n",
       "<table border=\"1\" class=\"dataframe\">\n",
       "  <thead>\n",
       "    <tr style=\"text-align: right;\">\n",
       "      <th></th>\n",
       "      <th>Name</th>\n",
       "      <th>City</th>\n",
       "      <th>State</th>\n",
       "      <th>Name_Lower</th>\n",
       "      <th>Name_Upper</th>\n",
       "      <th>Name_len</th>\n",
       "      <th>City_strip</th>\n",
       "      <th>First_Name</th>\n",
       "      <th>Last_Name</th>\n",
       "      <th>Replaced_State</th>\n",
       "    </tr>\n",
       "  </thead>\n",
       "  <tbody>\n",
       "    <tr>\n",
       "      <th>0</th>\n",
       "      <td>Abhijeet Bhatt</td>\n",
       "      <td>Sangli</td>\n",
       "      <td>MH</td>\n",
       "      <td>abhijeet bhatt</td>\n",
       "      <td>ABHIJEET BHATT</td>\n",
       "      <td>14</td>\n",
       "      <td>Sangli</td>\n",
       "      <td>Abhijeet</td>\n",
       "      <td>Bhatt</td>\n",
       "      <td>Maharashtra</td>\n",
       "    </tr>\n",
       "    <tr>\n",
       "      <th>1</th>\n",
       "      <td>Suhas Pande</td>\n",
       "      <td>Kolhapur</td>\n",
       "      <td>MH</td>\n",
       "      <td>suhas pande</td>\n",
       "      <td>SUHAS PANDE</td>\n",
       "      <td>12</td>\n",
       "      <td>Kolhapur</td>\n",
       "      <td>Suhas</td>\n",
       "      <td>Pande</td>\n",
       "      <td>Maharashtra</td>\n",
       "    </tr>\n",
       "    <tr>\n",
       "      <th>2</th>\n",
       "      <td>Ajit Patil</td>\n",
       "      <td>Pune</td>\n",
       "      <td>MH</td>\n",
       "      <td>ajit patil</td>\n",
       "      <td>AJIT PATIL</td>\n",
       "      <td>10</td>\n",
       "      <td>Pune</td>\n",
       "      <td>Ajit</td>\n",
       "      <td>Patil</td>\n",
       "      <td>Maharashtra</td>\n",
       "    </tr>\n",
       "    <tr>\n",
       "      <th>3</th>\n",
       "      <td>Saniya Mirja</td>\n",
       "      <td>Belgum</td>\n",
       "      <td>KA</td>\n",
       "      <td>saniya mirja</td>\n",
       "      <td>SANIYA MIRJA</td>\n",
       "      <td>12</td>\n",
       "      <td>Belgum</td>\n",
       "      <td>Saniya</td>\n",
       "      <td>Mirja</td>\n",
       "      <td>Karnataka</td>\n",
       "    </tr>\n",
       "  </tbody>\n",
       "</table>\n",
       "</div>"
      ],
      "text/plain": [
       "             Name       City State      Name_Lower      Name_Upper  Name_len  \\\n",
       "0  Abhijeet Bhatt     Sangli    MH  abhijeet bhatt  ABHIJEET BHATT        14   \n",
       "1     Suhas Pande  Kolhapur     MH     suhas pande     SUHAS PANDE        12   \n",
       "2      Ajit Patil      Pune     MH      ajit patil      AJIT PATIL        10   \n",
       "3    Saniya Mirja    Belgum     KA    saniya mirja    SANIYA MIRJA        12   \n",
       "\n",
       "  City_strip First_Name Last_Name Replaced_State  \n",
       "0     Sangli   Abhijeet     Bhatt    Maharashtra  \n",
       "1   Kolhapur      Suhas     Pande    Maharashtra  \n",
       "2       Pune       Ajit     Patil    Maharashtra  \n",
       "3     Belgum     Saniya     Mirja      Karnataka  "
      ]
     },
     "execution_count": 40,
     "metadata": {},
     "output_type": "execute_result"
    }
   ],
   "source": [
    "df"
   ]
  },
  {
   "cell_type": "code",
   "execution_count": 41,
   "id": "f0636769",
   "metadata": {},
   "outputs": [
    {
     "data": {
      "text/plain": [
       "0    Abhijeet Bhatt\n",
       "1       Suhas Pande\n",
       "2        Ajit Patil\n",
       "3      Saniya Mirja\n",
       "Name: First_Name, dtype: object"
      ]
     },
     "execution_count": 41,
     "metadata": {},
     "output_type": "execute_result"
    }
   ],
   "source": [
    "df['First_Name'].str.cat(df['Last_Name'], sep = \" \")"
   ]
  },
  {
   "cell_type": "code",
   "execution_count": 43,
   "id": "485fb5d1",
   "metadata": {},
   "outputs": [
    {
     "data": {
      "text/html": [
       "<div>\n",
       "<style scoped>\n",
       "    .dataframe tbody tr th:only-of-type {\n",
       "        vertical-align: middle;\n",
       "    }\n",
       "\n",
       "    .dataframe tbody tr th {\n",
       "        vertical-align: top;\n",
       "    }\n",
       "\n",
       "    .dataframe thead th {\n",
       "        text-align: right;\n",
       "    }\n",
       "</style>\n",
       "<table border=\"1\" class=\"dataframe\">\n",
       "  <thead>\n",
       "    <tr style=\"text-align: right;\">\n",
       "      <th></th>\n",
       "      <th>Name</th>\n",
       "      <th>City</th>\n",
       "      <th>State</th>\n",
       "      <th>Name_Lower</th>\n",
       "      <th>Name_Upper</th>\n",
       "      <th>Name_len</th>\n",
       "      <th>City_strip</th>\n",
       "      <th>First_Name</th>\n",
       "      <th>Last_Name</th>\n",
       "      <th>Replaced_State</th>\n",
       "      <th>Full_Name</th>\n",
       "    </tr>\n",
       "  </thead>\n",
       "  <tbody>\n",
       "    <tr>\n",
       "      <th>0</th>\n",
       "      <td>Abhijeet Bhatt</td>\n",
       "      <td>Sangli</td>\n",
       "      <td>MH</td>\n",
       "      <td>abhijeet bhatt</td>\n",
       "      <td>ABHIJEET BHATT</td>\n",
       "      <td>14</td>\n",
       "      <td>Sangli</td>\n",
       "      <td>Abhijeet</td>\n",
       "      <td>Bhatt</td>\n",
       "      <td>Maharashtra</td>\n",
       "      <td>Abhijeet Bhatt</td>\n",
       "    </tr>\n",
       "    <tr>\n",
       "      <th>1</th>\n",
       "      <td>Suhas Pande</td>\n",
       "      <td>Kolhapur</td>\n",
       "      <td>MH</td>\n",
       "      <td>suhas pande</td>\n",
       "      <td>SUHAS PANDE</td>\n",
       "      <td>12</td>\n",
       "      <td>Kolhapur</td>\n",
       "      <td>Suhas</td>\n",
       "      <td>Pande</td>\n",
       "      <td>Maharashtra</td>\n",
       "      <td>Suhas Pande</td>\n",
       "    </tr>\n",
       "    <tr>\n",
       "      <th>2</th>\n",
       "      <td>Ajit Patil</td>\n",
       "      <td>Pune</td>\n",
       "      <td>MH</td>\n",
       "      <td>ajit patil</td>\n",
       "      <td>AJIT PATIL</td>\n",
       "      <td>10</td>\n",
       "      <td>Pune</td>\n",
       "      <td>Ajit</td>\n",
       "      <td>Patil</td>\n",
       "      <td>Maharashtra</td>\n",
       "      <td>Ajit Patil</td>\n",
       "    </tr>\n",
       "    <tr>\n",
       "      <th>3</th>\n",
       "      <td>Saniya Mirja</td>\n",
       "      <td>Belgum</td>\n",
       "      <td>KA</td>\n",
       "      <td>saniya mirja</td>\n",
       "      <td>SANIYA MIRJA</td>\n",
       "      <td>12</td>\n",
       "      <td>Belgum</td>\n",
       "      <td>Saniya</td>\n",
       "      <td>Mirja</td>\n",
       "      <td>Karnataka</td>\n",
       "      <td>Saniya Mirja</td>\n",
       "    </tr>\n",
       "  </tbody>\n",
       "</table>\n",
       "</div>"
      ],
      "text/plain": [
       "             Name       City State      Name_Lower      Name_Upper  Name_len  \\\n",
       "0  Abhijeet Bhatt     Sangli    MH  abhijeet bhatt  ABHIJEET BHATT        14   \n",
       "1     Suhas Pande  Kolhapur     MH     suhas pande     SUHAS PANDE        12   \n",
       "2      Ajit Patil      Pune     MH      ajit patil      AJIT PATIL        10   \n",
       "3    Saniya Mirja    Belgum     KA    saniya mirja    SANIYA MIRJA        12   \n",
       "\n",
       "  City_strip First_Name Last_Name Replaced_State       Full_Name  \n",
       "0     Sangli   Abhijeet     Bhatt    Maharashtra  Abhijeet Bhatt  \n",
       "1   Kolhapur      Suhas     Pande    Maharashtra     Suhas Pande  \n",
       "2       Pune       Ajit     Patil    Maharashtra      Ajit Patil  \n",
       "3     Belgum     Saniya     Mirja      Karnataka    Saniya Mirja  "
      ]
     },
     "execution_count": 43,
     "metadata": {},
     "output_type": "execute_result"
    }
   ],
   "source": [
    "df['Full_Name']= df['First_Name'].str.cat(df['Last_Name'], sep = \" \")\n",
    "df"
   ]
  },
  {
   "cell_type": "markdown",
   "id": "0bc51f73",
   "metadata": {},
   "source": [
    "### 9. str.get()"
   ]
  },
  {
   "cell_type": "code",
   "execution_count": 44,
   "id": "d77a6ca1",
   "metadata": {},
   "outputs": [
    {
     "data": {
      "text/plain": [
       "0    A\n",
       "1    S\n",
       "2    A\n",
       "3    S\n",
       "Name: Name, dtype: object"
      ]
     },
     "execution_count": 44,
     "metadata": {},
     "output_type": "execute_result"
    }
   ],
   "source": [
    "df['Name'].str.get(0)"
   ]
  },
  {
   "cell_type": "code",
   "execution_count": 45,
   "id": "1e5ffaf0",
   "metadata": {},
   "outputs": [
    {
     "data": {
      "text/plain": [
       "0    t\n",
       "1    e\n",
       "2    l\n",
       "3    a\n",
       "Name: Name, dtype: object"
      ]
     },
     "execution_count": 45,
     "metadata": {},
     "output_type": "execute_result"
    }
   ],
   "source": [
    "df[\"Name\"].str.get(-1)"
   ]
  },
  {
   "cell_type": "code",
   "execution_count": 46,
   "id": "384e34c0",
   "metadata": {},
   "outputs": [
    {
     "data": {
      "text/plain": [
       "0    Abhijeet\n",
       "1       Suhas\n",
       "2        Ajit\n",
       "3      Saniya\n",
       "Name: Name, dtype: object"
      ]
     },
     "execution_count": 46,
     "metadata": {},
     "output_type": "execute_result"
    }
   ],
   "source": [
    "df[\"Name\"].str.split().str.get(0)"
   ]
  },
  {
   "cell_type": "code",
   "execution_count": 47,
   "id": "7e5beab0",
   "metadata": {},
   "outputs": [
    {
     "data": {
      "text/plain": [
       "0    Bhatt\n",
       "1    Pande\n",
       "2    Patil\n",
       "3    Mirja\n",
       "Name: Name, dtype: object"
      ]
     },
     "execution_count": 47,
     "metadata": {},
     "output_type": "execute_result"
    }
   ],
   "source": [
    "df[\"Name\"].str.split().str.get(-1)"
   ]
  },
  {
   "cell_type": "markdown",
   "id": "6b7fbf2d",
   "metadata": {},
   "source": [
    "### 10. str.slice()"
   ]
  },
  {
   "cell_type": "code",
   "execution_count": 50,
   "id": "5fa336a1",
   "metadata": {},
   "outputs": [
    {
     "data": {
      "text/plain": [
       "0    Abhijeet Bhatt\n",
       "1       Suhas Pande\n",
       "2        Ajit Patil\n",
       "3      Saniya Mirja\n",
       "Name: Name, dtype: object"
      ]
     },
     "execution_count": 50,
     "metadata": {},
     "output_type": "execute_result"
    }
   ],
   "source": [
    "df['Name'].str.slice(0)"
   ]
  },
  {
   "cell_type": "code",
   "execution_count": 51,
   "id": "4ca205c3",
   "metadata": {},
   "outputs": [
    {
     "data": {
      "text/plain": [
       "0    Abh\n",
       "1    Suh\n",
       "2    Aji\n",
       "3    San\n",
       "Name: Name, dtype: object"
      ]
     },
     "execution_count": 51,
     "metadata": {},
     "output_type": "execute_result"
    }
   ],
   "source": [
    "df['Name'].str.slice(0, 3)"
   ]
  },
  {
   "cell_type": "code",
   "execution_count": 52,
   "id": "3251f2e1",
   "metadata": {},
   "outputs": [
    {
     "data": {
      "text/plain": [
       "0    t\n",
       "1    e\n",
       "2    l\n",
       "3    a\n",
       "Name: Name, dtype: object"
      ]
     },
     "execution_count": 52,
     "metadata": {},
     "output_type": "execute_result"
    }
   ],
   "source": [
    "df['Name'].str.slice(-1)"
   ]
  },
  {
   "cell_type": "code",
   "execution_count": 53,
   "id": "fe9f7b8f",
   "metadata": {},
   "outputs": [
    {
     "data": {
      "text/plain": [
       "0    att\n",
       "1    nde\n",
       "2    til\n",
       "3    rja\n",
       "Name: Name, dtype: object"
      ]
     },
     "execution_count": 53,
     "metadata": {},
     "output_type": "execute_result"
    }
   ],
   "source": [
    "df['Name'].str.slice(-3)"
   ]
  },
  {
   "cell_type": "code",
   "execution_count": 54,
   "id": "89a0c663",
   "metadata": {},
   "outputs": [
    {
     "data": {
      "text/plain": [
       "0    Abh MH\n",
       "1    Suh MH\n",
       "2    Aji MH\n",
       "3    San KA\n",
       "dtype: object"
      ]
     },
     "execution_count": 54,
     "metadata": {},
     "output_type": "execute_result"
    }
   ],
   "source": [
    "df['Name'].str.slice(0,3)+ ' '+df['State']"
   ]
  },
  {
   "cell_type": "code",
   "execution_count": 56,
   "id": "7ccebe2b",
   "metadata": {},
   "outputs": [
    {
     "data": {
      "text/html": [
       "<div>\n",
       "<style scoped>\n",
       "    .dataframe tbody tr th:only-of-type {\n",
       "        vertical-align: middle;\n",
       "    }\n",
       "\n",
       "    .dataframe tbody tr th {\n",
       "        vertical-align: top;\n",
       "    }\n",
       "\n",
       "    .dataframe thead th {\n",
       "        text-align: right;\n",
       "    }\n",
       "</style>\n",
       "<table border=\"1\" class=\"dataframe\">\n",
       "  <thead>\n",
       "    <tr style=\"text-align: right;\">\n",
       "      <th></th>\n",
       "      <th>Name</th>\n",
       "      <th>City</th>\n",
       "      <th>State</th>\n",
       "      <th>Name_Lower</th>\n",
       "      <th>Name_Upper</th>\n",
       "      <th>Name_len</th>\n",
       "      <th>City_strip</th>\n",
       "      <th>First_Name</th>\n",
       "      <th>Last_Name</th>\n",
       "      <th>Replaced_State</th>\n",
       "      <th>Full_Name</th>\n",
       "      <th>Name_State</th>\n",
       "    </tr>\n",
       "  </thead>\n",
       "  <tbody>\n",
       "    <tr>\n",
       "      <th>0</th>\n",
       "      <td>Abhijeet Bhatt</td>\n",
       "      <td>Sangli</td>\n",
       "      <td>MH</td>\n",
       "      <td>abhijeet bhatt</td>\n",
       "      <td>ABHIJEET BHATT</td>\n",
       "      <td>14</td>\n",
       "      <td>Sangli</td>\n",
       "      <td>Abhijeet</td>\n",
       "      <td>Bhatt</td>\n",
       "      <td>Maharashtra</td>\n",
       "      <td>Abhijeet Bhatt</td>\n",
       "      <td>Abh MH</td>\n",
       "    </tr>\n",
       "    <tr>\n",
       "      <th>1</th>\n",
       "      <td>Suhas Pande</td>\n",
       "      <td>Kolhapur</td>\n",
       "      <td>MH</td>\n",
       "      <td>suhas pande</td>\n",
       "      <td>SUHAS PANDE</td>\n",
       "      <td>12</td>\n",
       "      <td>Kolhapur</td>\n",
       "      <td>Suhas</td>\n",
       "      <td>Pande</td>\n",
       "      <td>Maharashtra</td>\n",
       "      <td>Suhas Pande</td>\n",
       "      <td>Suh MH</td>\n",
       "    </tr>\n",
       "    <tr>\n",
       "      <th>2</th>\n",
       "      <td>Ajit Patil</td>\n",
       "      <td>Pune</td>\n",
       "      <td>MH</td>\n",
       "      <td>ajit patil</td>\n",
       "      <td>AJIT PATIL</td>\n",
       "      <td>10</td>\n",
       "      <td>Pune</td>\n",
       "      <td>Ajit</td>\n",
       "      <td>Patil</td>\n",
       "      <td>Maharashtra</td>\n",
       "      <td>Ajit Patil</td>\n",
       "      <td>Aji MH</td>\n",
       "    </tr>\n",
       "    <tr>\n",
       "      <th>3</th>\n",
       "      <td>Saniya Mirja</td>\n",
       "      <td>Belgum</td>\n",
       "      <td>KA</td>\n",
       "      <td>saniya mirja</td>\n",
       "      <td>SANIYA MIRJA</td>\n",
       "      <td>12</td>\n",
       "      <td>Belgum</td>\n",
       "      <td>Saniya</td>\n",
       "      <td>Mirja</td>\n",
       "      <td>Karnataka</td>\n",
       "      <td>Saniya Mirja</td>\n",
       "      <td>San KA</td>\n",
       "    </tr>\n",
       "  </tbody>\n",
       "</table>\n",
       "</div>"
      ],
      "text/plain": [
       "             Name       City State      Name_Lower      Name_Upper  Name_len  \\\n",
       "0  Abhijeet Bhatt     Sangli    MH  abhijeet bhatt  ABHIJEET BHATT        14   \n",
       "1     Suhas Pande  Kolhapur     MH     suhas pande     SUHAS PANDE        12   \n",
       "2      Ajit Patil      Pune     MH      ajit patil      AJIT PATIL        10   \n",
       "3    Saniya Mirja    Belgum     KA    saniya mirja    SANIYA MIRJA        12   \n",
       "\n",
       "  City_strip First_Name Last_Name Replaced_State       Full_Name Name_State  \n",
       "0     Sangli   Abhijeet     Bhatt    Maharashtra  Abhijeet Bhatt     Abh MH  \n",
       "1   Kolhapur      Suhas     Pande    Maharashtra     Suhas Pande     Suh MH  \n",
       "2       Pune       Ajit     Patil    Maharashtra      Ajit Patil     Aji MH  \n",
       "3     Belgum     Saniya     Mirja      Karnataka    Saniya Mirja     San KA  "
      ]
     },
     "execution_count": 56,
     "metadata": {},
     "output_type": "execute_result"
    }
   ],
   "source": [
    "df[\"Name_State\"] = df['Name'].str.slice(0,3)+ ' '+df['State']\n",
    "df"
   ]
  },
  {
   "cell_type": "markdown",
   "id": "fe75236a",
   "metadata": {},
   "source": [
    "### 11. str.find()"
   ]
  },
  {
   "cell_type": "code",
   "execution_count": 58,
   "id": "95dabd08",
   "metadata": {},
   "outputs": [
    {
     "data": {
      "text/plain": [
       "0    Abhijeet Bhatt\n",
       "1       Suhas Pande\n",
       "2        Ajit Patil\n",
       "3      Saniya Mirja\n",
       "Name: Name, dtype: object"
      ]
     },
     "execution_count": 58,
     "metadata": {},
     "output_type": "execute_result"
    }
   ],
   "source": [
    "df['Name']"
   ]
  },
  {
   "cell_type": "code",
   "execution_count": 59,
   "id": "1b99579e",
   "metadata": {},
   "outputs": [
    {
     "data": {
      "text/plain": [
       "0    3\n",
       "1   -1\n",
       "2    2\n",
       "3    3\n",
       "Name: Name, dtype: int64"
      ]
     },
     "execution_count": 59,
     "metadata": {},
     "output_type": "execute_result"
    }
   ],
   "source": [
    "df['Name'].str.find('i')"
   ]
  },
  {
   "cell_type": "code",
   "execution_count": 60,
   "id": "e6370cb5",
   "metadata": {},
   "outputs": [
    {
     "data": {
      "text/plain": [
       "0    3\n",
       "1   -1\n",
       "2    8\n",
       "3    8\n",
       "Name: Name, dtype: int64"
      ]
     },
     "execution_count": 60,
     "metadata": {},
     "output_type": "execute_result"
    }
   ],
   "source": [
    "df['Name'].str.rfind('i')"
   ]
  },
  {
   "cell_type": "code",
   "execution_count": null,
   "id": "a51b0e23",
   "metadata": {},
   "outputs": [],
   "source": []
  }
 ],
 "metadata": {
  "kernelspec": {
   "display_name": "Python 3 (ipykernel)",
   "language": "python",
   "name": "python3"
  },
  "language_info": {
   "codemirror_mode": {
    "name": "ipython",
    "version": 3
   },
   "file_extension": ".py",
   "mimetype": "text/x-python",
   "name": "python",
   "nbconvert_exporter": "python",
   "pygments_lexer": "ipython3",
   "version": "3.11.5"
  }
 },
 "nbformat": 4,
 "nbformat_minor": 5
}
